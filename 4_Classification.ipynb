{
 "cells": [
  {
   "cell_type": "markdown",
   "metadata": {},
   "source": [
    "# Classification\n",
    "\n",
    "## 1. Data\n",
    "\n",
    "The dataset for this lecture was prepared by the MoleculeNet group [WRF+18]. It is a collection of molecules that succeeded or failed in clinical trials."
   ]
  },
  {
   "cell_type": "code",
   "execution_count": 2,
   "metadata": {},
   "outputs": [],
   "source": [
    "import pandas as pd\n",
    "import matplotlib.pyplot as plt\n",
    "import rdkit, rdkit.Chem, rdkit.Chem.Draw\n",
    "import numpy as np\n",
    "import jax.numpy as jnp\n",
    "import mordred, mordred.descriptors\n",
    "import jax"
   ]
  },
  {
   "cell_type": "code",
   "execution_count": 3,
   "metadata": {},
   "outputs": [
    {
     "data": {
      "text/html": [
       "<div>\n",
       "<style scoped>\n",
       "    .dataframe tbody tr th:only-of-type {\n",
       "        vertical-align: middle;\n",
       "    }\n",
       "\n",
       "    .dataframe tbody tr th {\n",
       "        vertical-align: top;\n",
       "    }\n",
       "\n",
       "    .dataframe thead th {\n",
       "        text-align: right;\n",
       "    }\n",
       "</style>\n",
       "<table border=\"1\" class=\"dataframe\">\n",
       "  <thead>\n",
       "    <tr style=\"text-align: right;\">\n",
       "      <th></th>\n",
       "      <th>smiles</th>\n",
       "      <th>FDA_APPROVED</th>\n",
       "      <th>CT_TOX</th>\n",
       "    </tr>\n",
       "  </thead>\n",
       "  <tbody>\n",
       "    <tr>\n",
       "      <th>0</th>\n",
       "      <td>*C(=O)[C@H](CCCCNC(=O)OCCOC)NC(=O)OCCOC</td>\n",
       "      <td>1</td>\n",
       "      <td>0</td>\n",
       "    </tr>\n",
       "    <tr>\n",
       "      <th>1</th>\n",
       "      <td>[C@@H]1([C@@H]([C@@H]([C@H]([C@@H]([C@@H]1Cl)C...</td>\n",
       "      <td>1</td>\n",
       "      <td>0</td>\n",
       "    </tr>\n",
       "    <tr>\n",
       "      <th>2</th>\n",
       "      <td>[C@H]([C@@H]([C@@H](C(=O)[O-])O)O)([C@H](C(=O)...</td>\n",
       "      <td>1</td>\n",
       "      <td>0</td>\n",
       "    </tr>\n",
       "    <tr>\n",
       "      <th>3</th>\n",
       "      <td>[H]/[NH+]=C(/C1=CC(=O)/C(=C\\C=c2ccc(=C([NH3+])...</td>\n",
       "      <td>1</td>\n",
       "      <td>0</td>\n",
       "    </tr>\n",
       "    <tr>\n",
       "      <th>4</th>\n",
       "      <td>[H]/[NH+]=C(\\N)/c1ccc(cc1)OCCCCCOc2ccc(cc2)/C(...</td>\n",
       "      <td>1</td>\n",
       "      <td>0</td>\n",
       "    </tr>\n",
       "  </tbody>\n",
       "</table>\n",
       "</div>"
      ],
      "text/plain": [
       "                                              smiles  FDA_APPROVED  CT_TOX\n",
       "0            *C(=O)[C@H](CCCCNC(=O)OCCOC)NC(=O)OCCOC             1       0\n",
       "1  [C@@H]1([C@@H]([C@@H]([C@H]([C@@H]([C@@H]1Cl)C...             1       0\n",
       "2  [C@H]([C@@H]([C@@H](C(=O)[O-])O)O)([C@H](C(=O)...             1       0\n",
       "3  [H]/[NH+]=C(/C1=CC(=O)/C(=C\\C=c2ccc(=C([NH3+])...             1       0\n",
       "4  [H]/[NH+]=C(\\N)/c1ccc(cc1)OCCCCCOc2ccc(cc2)/C(...             1       0"
      ]
     },
     "execution_count": 3,
     "metadata": {},
     "output_type": "execute_result"
    }
   ],
   "source": [
    "# from zipfile import ZipFile\n",
    "# from io import BytesIO\n",
    "# from urllib.request import urlopen\n",
    "\n",
    "# from web version\n",
    "# url = 'https://deepchemdata.s3-us-west-1.amazonaws.com/datasets/clintox.csv.gz'\n",
    "# file = urlopen(url).read()\n",
    "# file = BytesIO(file)\n",
    "# document = ZipFile(file)\n",
    "# toxdata = pd.read_csv(document.open('clintox.csv'))\n",
    "\n",
    "# local version\n",
    "toxdata = pd.read_csv(\n",
    "    \"https://github.com/whitead/dmol-book/raw/master/data/clintox.csv.gz\"\n",
    ")\n",
    "toxdata.head()"
   ]
  },
  {
   "cell_type": "markdown",
   "metadata": {},
   "source": [
    "## 2. Molecular Descriptors\n",
    "\n",
    "This time, our data does not come with pre-computed descriptors. We only have the SMILES string, which is a way of writing a molecule using letters and numbers (a string). We can use rdkit to convert the SMILES string into a molecule, and then we can use a package called Mordred to compute a set of descriptors for each molecule. This package will compute around 1500 descriptors for each molecule.\n",
    "\n",
    "We’ll start by converting our molecules into rdkit objects and building a calculator to compute the descriptors."
   ]
  },
  {
   "cell_type": "code",
   "execution_count": 4,
   "metadata": {},
   "outputs": [
    {
     "name": "stderr",
     "output_type": "stream",
     "text": [
      "[12:27:35] Explicit valence for atom # 0 N, 5, is greater than permitted\n",
      "[12:27:35] Can't kekulize mol.  Unkekulized atoms: 9\n",
      "[12:27:35] Explicit valence for atom # 10 N, 4, is greater than permitted\n",
      "[12:27:35] Explicit valence for atom # 10 N, 4, is greater than permitted\n",
      "[12:27:35] Can't kekulize mol.  Unkekulized atoms: 4\n",
      "[12:27:35] Can't kekulize mol.  Unkekulized atoms: 4\n"
     ]
    },
    {
     "data": {
      "image/png": "[encoded data removed]",
      "text/plain": [
       "<rdkit.Chem.rdchem.Mol at 0x7f3d4d7e77c0>"
      ]
     },
     "execution_count": 4,
     "metadata": {},
     "output_type": "execute_result"
    }
   ],
   "source": [
    "# make object that can compute descriptors\n",
    "calc = mordred.Calculator(mordred.descriptors, ignore_3D=True)\n",
    "# make subsample from pandas df\n",
    "molecules = [rdkit.Chem.MolFromSmiles(smi) for smi in toxdata.smiles]\n",
    "\n",
    "# view one molecule to make sure things look good.\n",
    "molecules[0]"
   ]
  },
  {
   "cell_type": "markdown",
   "metadata": {},
   "source": [
    "Some of our molecules failed to be converted. We’ll have to remove them. We need to remember which ones were deleted too, since we need to remove the failed molecules from the labels."
   ]
  },
  {
   "cell_type": "code",
   "execution_count": 5,
   "metadata": {},
   "outputs": [
    {
     "name": "stdout",
     "output_type": "stream",
     "text": [
      "/home/eloisanchez/.local/lib/python3.10/site-packages/numpy/core/fromnumeric.py:86: RuntimeWarning: overflow encountered in reduce\n",
      "  return ufunc.reduce(obj, axis, dtype, out, **passkwargs)\n",
      "/home/eloisanchez/.local/lib/python3.10/site-packages/numpy/core/fromnumeric.py:86: RuntimeWarning: overflow encountered in reduce\n",
      "  return ufunc.reduce(obj, axis, dtype, out, **passkwargs)\n",
      "/home/eloisanchez/.local/lib/python3.10/site-packages/numpy/core/fromnumeric.py:86: RuntimeWarning: overflow encountered in reduce\n",
      "  return ufunc.reduce(obj, axis, dtype, out, **passkwargs)\n",
      "/home/eloisanchez/.local/lib/python3.10/site-packages/numpy/core/fromnumeric.py:86: RuntimeWarning: overflow encountered in reduce\n",
      "  return ufunc.reduce(obj, axis, dtype, out, **passkwargs)\n",
      "/home/eloisanchez/.local/lib/python3.10/site-packages/numpy/core/fromnumeric.py:86: RuntimeWarning: overflow encountered in reduce\n",
      "  return ufunc.reduce(obj, axis, dtype, out, **passkwargs)\n",
      "/home/eloisanchez/.local/lib/python3.10/site-packages/numpy/core/fromnumeric.py:86: RuntimeWarning: overflow encountered in reduce\n",
      "  return ufunc.reduce(obj, axis, dtype, out, **passkwargs)\n",
      "/home/eloisanchez/.local/lib/python3.10/site-packages/numpy/core/fromnumeric.py:86: RuntimeWarning: overflow encountered in reduce\n",
      "  return ufunc.reduce(obj, axis, dtype, out, **passkwargs)\n",
      "/home/eloisanchez/.local/lib/python3.10/site-packages/numpy/core/fromnumeric.py:86: RuntimeWarning: overflow encountered in reduce\n",
      "  return ufunc.reduce(obj, axis, dtype, out, **passkwargs)\n"
     ]
    }
   ],
   "source": [
    "# the invalid molecules were None, so we'll just\n",
    "# use the fact the None is False in Python\n",
    "valid_mol_idx = [bool(m) for m in molecules]\n",
    "valid_mols = [m for m in molecules if m]\n",
    "\n",
    "# Get the features from the mordred calculator\n",
    "features = calc.pandas(valid_mols)"
   ]
  },
  {
   "cell_type": "markdown",
   "metadata": {},
   "source": [
    "Now we just need to stich everything back together so that our labels are consistent and standardize our features."
   ]
  },
  {
   "cell_type": "code",
   "execution_count": 6,
   "metadata": {},
   "outputs": [
    {
     "name": "stderr",
     "output_type": "stream",
     "text": [
      "/tmp/ipykernel_6531/2238410431.py:2: FutureWarning: Dropping of nuisance columns in DataFrame reductions (with 'numeric_only=None') is deprecated; in a future version this will raise TypeError.  Select only valid columns before calling the reduction.\n",
      "  features -= features.mean()\n"
     ]
    },
    {
     "name": "stdout",
     "output_type": "stream",
     "text": [
      "We have 483 features per molecule\n"
     ]
    }
   ],
   "source": [
    "labels = toxdata[valid_mol_idx].FDA_APPROVED\n",
    "features -= features.mean()\n",
    "features /= features.std()\n",
    "\n",
    "# we have some nans in features, likely because std was 0\n",
    "features.dropna(inplace=True, axis=1)\n",
    "\n",
    "print(f\"We have {len(features.columns)} features per molecule\")"
   ]
  },
  {
   "cell_type": "markdown",
   "metadata": {},
   "source": [
    "## 3. Classification Models\n",
    "\n",
    "### 3.1. Linear Perceptron\n",
    "\n",
    "We can use regression. Basically if $\\vec{w}·\\vec{x}+b>0$ then $\\hat{f}(\\vec{x})=1$ and $\\hat{f}(\\vec{x})=0$ otherwise.\n",
    "\n",
    "This model is called **perceptron** and is the first neuran network for classification. It is an example of a **hard** classifier, as it does not predict the probability of the class, it just predicts exactly one class.\n",
    "\n",
    "The distance of $\\vec{w}·\\vec{x}+b$ from 0 is called the **decision boundary**."
   ]
  },
  {
   "cell_type": "code",
   "execution_count": 7,
   "metadata": {},
   "outputs": [],
   "source": [
    "def perceptron(x, w, b):\n",
    "    v = jnp.dot(x, w) + b\n",
    "    y = jnp.where(v > 0, x=jnp.zeros_like(v), y=jnp.ones_like(v))\n",
    "    return y"
   ]
  },
  {
   "cell_type": "markdown",
   "metadata": {},
   "source": [
    "Now that we have a model, we must choose a loss function. We haven’t learned about many loss functions yet. We’ve only seen mean squared error. Let us begin with a related loss called mean absolute error (MAE). MAE measures disagreement between our class and the predicted class. This is like an accuracy – what percentage of the time we’re correct.\n",
    "$$\n",
    "L=\\frac{1}{N}\\sum_i{|y_i-\\hat{y}_i|}\n",
    "$$"
   ]
  },
  {
   "cell_type": "code",
   "execution_count": 8,
   "metadata": {},
   "outputs": [],
   "source": [
    "def loss(y, yhat):\n",
    "    return jnp.mean(jnp.abs(y - yhat))\n",
    "\n",
    "\n",
    "def loss_wrapper(w, b, x, y):\n",
    "    yhat = perceptron(x, w, b)\n",
    "    return loss(y, yhat)\n",
    "\n",
    "\n",
    "loss_grad = jax.grad(loss_wrapper, (0, 1))"
   ]
  },
  {
   "cell_type": "markdown",
   "metadata": {},
   "source": [
    "Now create the training and testing sets"
   ]
  },
  {
   "cell_type": "code",
   "execution_count": 9,
   "metadata": {},
   "outputs": [
    {
     "name": "stdout",
     "output_type": "stream",
     "text": [
      "(296, 483) (296,)\n"
     ]
    }
   ],
   "source": [
    "batch_size = 32\n",
    "train_N = int(len(labels) * 0.8)  # 80% for training and 20% for testing\n",
    "\n",
    "\n",
    "N = len(labels)\n",
    "batch_idx = range(0, train_N, batch_size)\n",
    "\n",
    "# Random initialization of the parameters\n",
    "w = np.random.normal(size=len(features.columns))\n",
    "b = 0.0\n",
    "\n",
    "# Create the function to calculate the gradient\n",
    "loss_grad = jax.grad(loss_wrapper, (0, 1))\n",
    "\n",
    "# Get the testing datasets\n",
    "test_x = features[train_N:].values.astype(np.float32)\n",
    "test_y = labels[train_N:].values\n",
    "\n",
    "print(test_x.shape, test_y.shape)"
   ]
  },
  {
   "cell_type": "markdown",
   "metadata": {},
   "source": [
    "Let’s now try out our gradient to make sure it works"
   ]
  },
  {
   "cell_type": "code",
   "execution_count": 10,
   "metadata": {},
   "outputs": [
    {
     "name": "stderr",
     "output_type": "stream",
     "text": [
      "WARNING:absl:No GPU/TPU found, falling back to CPU. (Set TF_CPP_MIN_LOG_LEVEL=0 and rerun for more info.)\n"
     ]
    },
    {
     "data": {
      "text/plain": [
       "(DeviceArray([0., 0., 0., 0., 0., 0., 0., 0., 0., 0., 0., 0., 0., 0., 0.,\n",
       "              0., 0., 0., 0., 0., 0., 0., 0., 0., 0., 0., 0., 0., 0., 0.,\n",
       "              0., 0., 0., 0., 0., 0., 0., 0., 0., 0., 0., 0., 0., 0., 0.,\n",
       "              0., 0., 0., 0., 0., 0., 0., 0., 0., 0., 0., 0., 0., 0., 0.,\n",
       "              0., 0., 0., 0., 0., 0., 0., 0., 0., 0., 0., 0., 0., 0., 0.,\n",
       "              0., 0., 0., 0., 0., 0., 0., 0., 0., 0., 0., 0., 0., 0., 0.,\n",
       "              0., 0., 0., 0., 0., 0., 0., 0., 0., 0., 0., 0., 0., 0., 0.,\n",
       "              0., 0., 0., 0., 0., 0., 0., 0., 0., 0., 0., 0., 0., 0., 0.,\n",
       "              0., 0., 0., 0., 0., 0., 0., 0., 0., 0., 0., 0., 0., 0., 0.,\n",
       "              0., 0., 0., 0., 0., 0., 0., 0., 0., 0., 0., 0., 0., 0., 0.,\n",
       "              0., 0., 0., 0., 0., 0., 0., 0., 0., 0., 0., 0., 0., 0., 0.,\n",
       "              0., 0., 0., 0., 0., 0., 0., 0., 0., 0., 0., 0., 0., 0., 0.,\n",
       "              0., 0., 0., 0., 0., 0., 0., 0., 0., 0., 0., 0., 0., 0., 0.,\n",
       "              0., 0., 0., 0., 0., 0., 0., 0., 0., 0., 0., 0., 0., 0., 0.,\n",
       "              0., 0., 0., 0., 0., 0., 0., 0., 0., 0., 0., 0., 0., 0., 0.,\n",
       "              0., 0., 0., 0., 0., 0., 0., 0., 0., 0., 0., 0., 0., 0., 0.,\n",
       "              0., 0., 0., 0., 0., 0., 0., 0., 0., 0., 0., 0., 0., 0., 0.,\n",
       "              0., 0., 0., 0., 0., 0., 0., 0., 0., 0., 0., 0., 0., 0., 0.,\n",
       "              0., 0., 0., 0., 0., 0., 0., 0., 0., 0., 0., 0., 0., 0., 0.,\n",
       "              0., 0., 0., 0., 0., 0., 0., 0., 0., 0., 0., 0., 0., 0., 0.,\n",
       "              0., 0., 0., 0., 0., 0., 0., 0., 0., 0., 0., 0., 0., 0., 0.,\n",
       "              0., 0., 0., 0., 0., 0., 0., 0., 0., 0., 0., 0., 0., 0., 0.,\n",
       "              0., 0., 0., 0., 0., 0., 0., 0., 0., 0., 0., 0., 0., 0., 0.,\n",
       "              0., 0., 0., 0., 0., 0., 0., 0., 0., 0., 0., 0., 0., 0., 0.,\n",
       "              0., 0., 0., 0., 0., 0., 0., 0., 0., 0., 0., 0., 0., 0., 0.,\n",
       "              0., 0., 0., 0., 0., 0., 0., 0., 0., 0., 0., 0., 0., 0., 0.,\n",
       "              0., 0., 0., 0., 0., 0., 0., 0., 0., 0., 0., 0., 0., 0., 0.,\n",
       "              0., 0., 0., 0., 0., 0., 0., 0., 0., 0., 0., 0., 0., 0., 0.,\n",
       "              0., 0., 0., 0., 0., 0., 0., 0., 0., 0., 0., 0., 0., 0., 0.,\n",
       "              0., 0., 0., 0., 0., 0., 0., 0., 0., 0., 0., 0., 0., 0., 0.,\n",
       "              0., 0., 0., 0., 0., 0., 0., 0., 0., 0., 0., 0., 0., 0., 0.,\n",
       "              0., 0., 0., 0., 0., 0., 0., 0., 0., 0., 0., 0., 0., 0., 0.,\n",
       "              0., 0., 0.], dtype=float32),\n",
       " DeviceArray(0., dtype=float32, weak_type=True))"
      ]
     },
     "execution_count": 10,
     "metadata": {},
     "output_type": "execute_result"
    }
   ],
   "source": [
    "loss_grad(w, b, test_x, test_y)"
   ]
  },
  {
   "cell_type": "markdown",
   "metadata": {},
   "source": [
    "It’s all zeros! Why is that? It’s because our `jnp.where` statement above is not differentiable, nor are any inequalities where the result is a constant (1 or 0 in our case). The perceptron actually has a special training procedure that is not related to its derivatives. One of the motivating reasons that deep learning is popular is that we do not need to construct a special training process for each model we construct – like the training procedure for the perceptron.\n",
    "\n",
    "### 3.2 Logistic Regression\n",
    "\n",
    "Rather than teach and discuss the special perceptron training procedure, we’ll move to a more modern related classifier called a softmax binary classifier. This is a tiny change, the softmax binary classifier is:\n",
    "$$\n",
    "\\hat{f}(\\vec{x}) = \\sigma(\\vec{w}·\\vec{x}+b)\n",
    "$$"
   ]
  },
  {
   "cell_type": "markdown",
   "metadata": {},
   "source": [
    "The input to the sigmoid can be viewed as log-odds, called logits for short. Odds are ratios of probability – odds of 1 means the probability of the class 1 is 0.5 and class 0 is 0.5. Odds of 2 means the probability of class 1 is 0.67 and class 0 is 0.33. Log-odds is the natural logarithm of that, so that log-odds of 0 means the odds are 1 and the output probability should be 0.5. One definition of the sigmoid is\n",
    "$$\n",
    "\\sigma(x)=\\frac{1}{1+e^{-x}}\n",
    "$$\n",
    "\n",
    "This type of binary classifier is sometimes called logistic regression because we’re regressing logits.\n",
    "\n",
    "In essence, all we’ve done is replacing the inequality of the perceptron with a smooth differentiable version. Just like previously, a positive number indicated class 1 (FDA approved) but now it’s a continuum of numbers from 0.5 to 1.0. This is **soft** classification – we give probabilities of class membership instead of hard assignment. However, our loss function now needs to be modified as well."
   ]
  },
  {
   "cell_type": "markdown",
   "metadata": {},
   "source": [
    "There is a different loss function that works better with classification called **cross-entropy**. Cross-entropy is a loss function that describes distance between two probability distributions. When minimized, the two probability distributions are identical.\n",
    "\n",
    "How is comparing predicted values $\\hat{y}$ and $y$ like comparing two probability distributions? Even though these are both 1s and 0s in the case of hard classification, they do sum to 1, and so we consider them probability distributions. Cross-entropy is defined as:\n",
    "$$\n",
    "L=-\\sum_c^K{y_c \\log{\\hat{y}_c}}\n",
    "$$\n",
    "\n",
    "Where $c$ indicates the class considered and it's assumed that $\\sum_c^K y_c=1$ and $\\sum_c^K \\hat{y}_c=1$ like probabilities. When we have a binary classification $y_1 = 1 - y_0$ is also fulfilled and the loss function becomes\n",
    "$$\n",
    "L=-[y_0 \\log{\\hat{y}_0}+(1-y_0)\\log{(1-\\hat{y}_0})]\n",
    "$$\n",
    "\n",
    "Now we can create a batched gradient descent algorithm to train the classifier. Note, one change we need to do is use the built-in jax jax.nn.sigmoid function to avoid numerical instabilities and also add a small number to all logs to avoid numerical instabilities."
   ]
  },
  {
   "cell_type": "code",
   "execution_count": 11,
   "metadata": {},
   "outputs": [
    {
     "data": {
      "text/plain": [
       "(DeviceArray([ 0.01369678,  0.01290647, -0.04203382,  0.03414671,\n",
       "               0.06463736,  0.06418101, -0.00312788,  0.00633956,\n",
       "               0.05294057,  0.01003047, -0.02009723, -0.01178875,\n",
       "               0.00788175,  0.0190418 ,  0.02130545, -0.03921411,\n",
       "              -0.07326884, -0.01063615,  0.0381923 ,  0.03393472,\n",
       "               0.04042657, -0.01971834,  0.04144726,  0.00363575,\n",
       "               0.02625596,  0.01601606,  0.02002408,  0.00860181,\n",
       "              -0.00419635, -0.00821917, -0.0115884 , -0.01803072,\n",
       "               0.01465524,  0.01543103,  0.02008337,  0.01658573,\n",
       "               0.01459567,  0.00932183,  0.00347562, -0.00243503,\n",
       "              -0.00672388, -0.03428435, -0.02379368,  0.00139962,\n",
       "               0.00356513, -0.01189856, -0.01151679, -0.01581604,\n",
       "              -0.01738641, -0.02055702,  0.01193847,  0.08938903,\n",
       "              -0.07757836, -0.0066368 ,  0.01536253, -0.04846675,\n",
       "              -0.05601464,  0.02588408,  0.01924275, -0.019254  ,\n",
       "              -0.00363093,  0.00149462,  0.02280544,  0.02503986,\n",
       "              -0.05663545, -0.04746028, -0.01084249,  0.00644193,\n",
       "               0.00824778, -0.00627386, -0.01184004, -0.03073045,\n",
       "              -0.03448488,  0.02241601, -0.06148579, -0.016024  ,\n",
       "               0.02658597,  0.00198533,  0.02951763,  0.03896387,\n",
       "               0.00248958,  0.08440356, -0.05306756, -0.09030598,\n",
       "               0.02535432,  0.00068421,  0.01300828, -0.01239137,\n",
       "              -0.02594406,  0.03139466,  0.06418101,  0.05175024,\n",
       "              -0.00465109,  0.03724163,  0.03369869,  0.04029684,\n",
       "              -0.00019319,  0.07090911,  0.05294262, -0.03631186,\n",
       "              -0.0349713 ,  0.04023236,  0.03427216, -0.04054417,\n",
       "               0.01356631, -0.00732411,  0.00017048,  0.04156088,\n",
       "               0.04714219,  0.01124242, -0.02870777, -0.01412674,\n",
       "               0.02144849,  0.02355649,  0.03346512,  0.01528625,\n",
       "               0.03201997,  0.02706745,  0.01878198,  0.03141221,\n",
       "               0.03633157,  0.03649105,  0.03523242,  0.00510596,\n",
       "               0.01774538,  0.02288936,  0.02668893,  0.03020824,\n",
       "               0.02511995,  0.02513499, -0.0072069 , -0.08311585,\n",
       "               0.00788175, -0.00961968,  0.01205825, -0.06718939,\n",
       "               0.06073642,  0.03616744,  0.06231106,  0.00672535,\n",
       "               0.02850382, -0.01470244,  0.05429102,  0.02298707,\n",
       "               0.05391104,  0.01812517,  0.0311683 , -0.00768839,\n",
       "               0.01542498, -0.00076428,  0.00135561, -0.03077218,\n",
       "               0.02502007,  0.02819724, -0.01022739,  0.01140657,\n",
       "              -0.00214095,  0.01749128,  0.02341134, -0.04120821,\n",
       "              -0.03856162, -0.01266544,  0.0381923 , -0.02640788,\n",
       "              -0.032616  , -0.00318703,  0.01367945, -0.06623515,\n",
       "              -0.05983103,  0.00055415, -0.00663772, -0.04467209,\n",
       "               0.02599601, -0.03525743,  0.04042657, -0.01971834,\n",
       "              -0.00788152, -0.0050265 ,  0.01252304, -0.05393471,\n",
       "               0.06036119,  0.0317855 ,  0.06136481,  0.03685518,\n",
       "               0.03090794,  0.02766945,  0.04233569,  0.02782463,\n",
       "              -0.02914269,  0.01841028,  0.03228337, -0.00392366,\n",
       "               0.02296386, -0.00123663,  0.00071782, -0.02665114,\n",
       "               0.02749426,  0.03113766,  0.01899864, -0.01094039,\n",
       "               0.00314102,  0.013678  ,  0.02069972, -0.04011731,\n",
       "              -0.03116471, -0.01205662,  0.03966293,  0.02640788,\n",
       "              -0.032616  ,  0.00098935,  0.0137677 , -0.06652505,\n",
       "              -0.06018198,  0.00637346,  0.00064275,  0.04675325,\n",
       "               0.02893172,  0.03525743,  0.04118985, -0.02055885,\n",
       "               0.12463818,  0.01832045,  0.11519795, -0.02776942,\n",
       "               0.02560494,  0.03191572,  0.09359545,  0.07823745,\n",
       "               0.07479323,  0.06712481,  0.06092897, -0.001812  ,\n",
       "               0.01110532,  0.0049311 ,  0.00315562,  0.00069047,\n",
       "              -0.00122454,  0.02624118, -0.02584526, -0.04620549,\n",
       "              -0.06902181, -0.06586539, -0.05819515, -0.05055282,\n",
       "              -0.01293404,  0.00297142,  0.00273966,  0.00092413,\n",
       "              -0.00113889, -0.0037849 , -0.0132713 , -0.03259392,\n",
       "              -0.04039169, -0.03692998, -0.03044028,  0.00507196,\n",
       "               0.03408577, -0.01315423,  0.00237691, -0.01085424,\n",
       "              -0.00339051,  0.0150264 ,  0.01037174,  0.01243441,\n",
       "              -0.02181712,  0.05065282,  0.03405562, -0.02936959,\n",
       "               0.02561463, -0.01932627, -0.02286263, -0.00287809,\n",
       "              -0.03437132,  0.00135561,  0.00204131,  0.03779577,\n",
       "              -0.02581213, -0.03552477,  0.07872839,  0.02865477,\n",
       "               0.00144451, -0.02555402, -0.04832838,  0.06229237,\n",
       "              -0.03257206,  0.06920838,  0.02820898,  0.03578997,\n",
       "               0.07029454,  0.0088471 , -0.01739806, -0.00533313,\n",
       "               0.0142302 ,  0.00545222, -0.05367447,  0.00460652,\n",
       "               0.03677784,  0.04805679,  0.01097203, -0.02336679,\n",
       "              -0.02323438, -0.01572865,  0.00500188,  0.05376662,\n",
       "               0.01969072,  0.0630401 ,  0.00102378,  0.00451414,\n",
       "               0.01009862,  0.02401353,  0.02857971,  0.0321447 ,\n",
       "               0.03343949,  0.02857469,  0.02818619,  0.02868628,\n",
       "               0.02699474,  0.02310117,  0.02752509,  0.05566405,\n",
       "               0.07658163,  0.08634885,  0.0852635 ,  0.0835804 ,\n",
       "               0.07405096,  0.07049256,  0.06877165,  0.06532206,\n",
       "               0.05905203,  0.08471734,  0.07452522,  0.01363252,\n",
       "              -0.04623118,  0.03734002,  0.07528271,  0.01579481,\n",
       "               0.01289272,  0.00643325, -0.00238118,  0.00366122,\n",
       "               0.03182033,  0.01618303, -0.05120407,  0.03654203,\n",
       "               0.02115906,  0.01648231,  0.00788175,  0.00643325,\n",
       "              -0.00238118,  0.00366122,  0.0618508 ,  0.00398662,\n",
       "               0.06896626,  0.00454745,  0.0061027 ,  0.04025174,\n",
       "               0.00398662,  0.05653824,  0.0061027 ,  0.03731867,\n",
       "               0.01363252, -0.04623118,  0.04533838,  0.02822361,\n",
       "               0.01558296,  0.01289272,  0.00643325, -0.00238118,\n",
       "               0.00247813,  0.0116905 ,  0.01618303, -0.05120407,\n",
       "               0.04922638, -0.0129857 ,  0.01648231,  0.00788175,\n",
       "               0.00643325, -0.00238118,  0.00247813,  0.03803755,\n",
       "              -0.03525743,  0.00910415,  0.00147185, -0.04079513,\n",
       "               0.01306849,  0.05351497, -0.01646258,  0.01205594,\n",
       "               0.02100971,  0.02429998, -0.03525743,  0.00910415,\n",
       "              -0.00300681, -0.04179967,  0.01345128,  0.04850051,\n",
       "              -0.01646258,  0.01205594,  0.01371591,  0.02954268,\n",
       "              -0.01045512,  0.06353565, -0.01246721,  0.02661715,\n",
       "              -0.01045512,  0.06291322, -0.00651492,  0.02058706,\n",
       "              -0.03525743,  0.00910415,  0.00147185, -0.04079513,\n",
       "               0.0377306 ,  0.01096416, -0.01646258,  0.01205594,\n",
       "               0.02405239,  0.00826703, -0.03525743,  0.00910415,\n",
       "              -0.00300681, -0.04179967,  0.04244998,  0.00543916,\n",
       "              -0.01646258,  0.01205594,  0.01574684, -0.07722656,\n",
       "               0.03965515,  0.00794959, -0.0132085 , -0.02321094,\n",
       "               0.03215541,  0.03245031,  0.02622119,  0.01859212,\n",
       "               0.00123271,  0.00064951, -0.00200516, -0.00840032,\n",
       "              -0.01730078, -0.01650728,  0.03275218,  0.05882676,\n",
       "               0.05592441,  0.07770461,  0.02709273,  0.05549088,\n",
       "               0.04530819,  0.03676049,  0.01860831,  0.02019119,\n",
       "               0.06855579,  0.14759028,  0.14759028,  0.01300828,\n",
       "               0.06288818,  0.07052032,  0.07671786,  0.08097315,\n",
       "               0.08431481,  0.08675777,  0.08862413,  0.09009719,\n",
       "               0.09117162,  0.02700852,  0.05102081,  0.01339777,\n",
       "               0.06574542,  0.05299294,  0.07730222,  0.05488534,\n",
       "               0.08487199,  0.05481416,  0.08945845,  0.03728302,\n",
       "              -0.0080359 , -0.08125623,  0.11020066,  0.01957569,\n",
       "               0.01962611,  0.02395271, -0.00493638], dtype=float32),\n",
       " DeviceArray(-0.17482568, dtype=float32, weak_type=True))"
      ]
     },
     "execution_count": 11,
     "metadata": {},
     "output_type": "execute_result"
    }
   ],
   "source": [
    "def bin_classifier(x, w, b):\n",
    "    v = jnp.dot(x, w) + b\n",
    "    return jax.nn.sigmoid(v)\n",
    "\n",
    "\n",
    "def cross_ent(y, yhat):\n",
    "    # Note that we add 1e-10 to the args of the logs to avoid numerical instability\n",
    "    return jnp.mean(-(y * jnp.log(yhat + 1e-10) + (1 - y) * jnp.log(1 - yhat + 1e-10)))\n",
    "\n",
    "\n",
    "def loss_wrapper(w, b, x, y):\n",
    "    yhat = bin_classifier(x, w, b)\n",
    "    return cross_ent(y, yhat)\n",
    "\n",
    "\n",
    "loss_grad = jax.grad(loss_wrapper, (0, 1))\n",
    "\n",
    "# Initialize random parameters\n",
    "w = np.random.normal(scale=0.01, size=len(features.columns))\n",
    "b = 1.0\n",
    "\n",
    "# Check that the gradient function works\n",
    "loss_grad(w, b, test_x, test_y)"
   ]
  },
  {
   "cell_type": "markdown",
   "metadata": {},
   "source": [
    "Now we create the training loop"
   ]
  },
  {
   "cell_type": "code",
   "execution_count": 12,
   "metadata": {},
   "outputs": [
    {
     "data": {
      "image/png": "[encoded data removed]",
      "text/plain": [
       "<Figure size 432x288 with 1 Axes>"
      ]
     },
     "metadata": {
      "needs_background": "light"
     },
     "output_type": "display_data"
    }
   ],
   "source": [
    "loss_progress = []\n",
    "test_loss_progress = []\n",
    "eta = 0.2\n",
    "for epoch in range(5):\n",
    "    for i in range(len(batch_idx) - 1):\n",
    "        # 1. Get data of this batch\n",
    "        x = features[batch_idx[i] : batch_idx[i + 1]].values.astype(np.float32)\n",
    "        y = labels[batch_idx[i] : batch_idx[i + 1]].values\n",
    "        # 2. Calculate gradient with this batch\n",
    "        grad = loss_grad(w, b, x, y)\n",
    "        # 3. Change the parameters in the direction of descending gradient\n",
    "        w -= eta * grad[0]\n",
    "        b -= eta * grad[1]\n",
    "        # 4. Recalculate loss and save\n",
    "        loss_progress.append(loss_wrapper(w, b, x, y))\n",
    "        test_loss_progress.append(loss_wrapper(w, b, test_x, test_y))\n",
    "plt.plot(loss_progress, label=\"Training Loss\")\n",
    "plt.plot(test_loss_progress, label=\"Testing Loss\")\n",
    "\n",
    "plt.xlabel(\"Step\")\n",
    "plt.legend()\n",
    "plt.ylabel(\"Loss\")\n",
    "plt.show()"
   ]
  },
  {
   "cell_type": "markdown",
   "metadata": {},
   "source": [
    "## 4. Classification Metrics\n",
    "\n",
    "In regression, we assessed model performance with a parity plot, correlation coefficient, or mean squared error. In classification, we use slightly different metrics. The first metric is **accuracy**. Accuracy is the percentage of time that the predicted label matches the true label. We do not have a hard classifier, so we have to choose how to turn probability into a specific class. For now, we will choose the class with the highest probability. Let’s see how this looks"
   ]
  },
  {
   "cell_type": "code",
   "execution_count": 13,
   "metadata": {},
   "outputs": [
    {
     "data": {
      "text/plain": [
       "0.8682432432432432"
      ]
     },
     "execution_count": 13,
     "metadata": {},
     "output_type": "execute_result"
    }
   ],
   "source": [
    "def accuracy(y, yhat):\n",
    "    # Conver from prob to hard class\n",
    "    #? Why do we use the ones_like function and not 1\n",
    "    hard_yhat = np.where(yhat > 0.5, np.ones_like(yhat), np.zeros_like(yhat))\n",
    "    disagree = np.sum(np.abs(y-hard_yhat))\n",
    "    return 1 - disagree / len(y)\n",
    "\n",
    "accuracy(test_y, bin_classifier(test_x, w, b))"
   ]
  },
  {
   "cell_type": "markdown",
   "metadata": {},
   "source": [
    "An accuracy of 0.83 seems quite reasonable! However, consider this model:"
   ]
  },
  {
   "cell_type": "code",
   "execution_count": 14,
   "metadata": {},
   "outputs": [
    {
     "data": {
      "text/plain": [
       "0.9087837837837838"
      ]
     },
     "execution_count": 14,
     "metadata": {},
     "output_type": "execute_result"
    }
   ],
   "source": [
    "def alt_classifier(x):\n",
    "    return np.ones((x.shape[0]))\n",
    "\n",
    "\n",
    "accuracy(test_y, alt_classifier(test_x))"
   ]
  },
  {
   "cell_type": "markdown",
   "metadata": {},
   "source": [
    "This model, which always returns 1, has better accuracy than our model. How is this possible?\n",
    "\n",
    "If you examine the data, you’ll see the majority of the molecules passed FDA clinical trials ($y=1$), so that just guessing 1 is a good strategy."
   ]
  },
  {
   "cell_type": "markdown",
   "metadata": {},
   "source": [
    "### 4.1. Error Types\n",
    "\n",
    "Let’s recall what we’re trying to do. We’re trying to predict if a molecule will make it through FDA clinical trials. Our model can be incorrect in two ways: it predicts a molecule will pass through clinical trials, but it actually fails. This is called a **false positive**. The other error is if we predict our drug will not make it through clinical trials, but it actually does. This is **false negative**.\n",
    "\n",
    "Our `alt_classifier` model, which simply reports everything as positive, has no false negative errors. It has many false positive errors. These two types of errors can be quantified. We’re going to add one complexity – threshold. Although we train our model to minimize cross-entropy, we may want to be more conservative or aggressive in our classification with the trained model."
   ]
  },
  {
   "cell_type": "code",
   "execution_count": 15,
   "metadata": {},
   "outputs": [],
   "source": [
    "def error_types(y, yhat, threshold):\n",
    "    hard_yhat = np.where(yhat >= threshold, np.ones_like(yhat), np.zeros_like(yhat))\n",
    "    # predicted 1, actually was 0 -> 1 (bool to remove predicted 0, actually was 1)\n",
    "    fp = np.sum((hard_yhat - y) > 0)\n",
    "    # predicted 0, actually was 1 -> 1 (bool to remove predicted 1, actually was 0)\n",
    "    fn = np.sum((y - hard_yhat) > 0)\n",
    "    return fp, fn"
   ]
  },
  {
   "cell_type": "code",
   "execution_count": 16,
   "metadata": {},
   "outputs": [
    {
     "name": "stdout",
     "output_type": "stream",
     "text": [
      "Alt Classifier (27, 0)\n",
      "Trained Classifier (20, 19)\n"
     ]
    }
   ],
   "source": [
    "print(\"Alt Classifier\", error_types(test_y, alt_classifier(test_x), 0.5))\n",
    "print(\"Trained Classifier\", error_types(test_y, bin_classifier(test_x, w, b), 0.5))"
   ]
  },
  {
   "cell_type": "markdown",
   "metadata": {},
   "source": [
    "We can see how increasing the threshold will minimize false positives at the cost of missing more possible aprovable molecules"
   ]
  },
  {
   "cell_type": "code",
   "execution_count": 17,
   "metadata": {},
   "outputs": [
    {
     "name": "stdout",
     "output_type": "stream",
     "text": [
      "Threshold 0.7 (19, 27)\n",
      "Threshold 0.9 (11, 74)\n",
      "Threshold 0.95 (6, 124)\n",
      "Threshold 0.99 (1, 220)\n"
     ]
    }
   ],
   "source": [
    "print(\"Threshold 0.7\", error_types(test_y, bin_classifier(test_x, w, b), 0.7))\n",
    "print(\"Threshold 0.9\", error_types(test_y, bin_classifier(test_x, w, b), 0.9))\n",
    "print(\"Threshold 0.95\", error_types(test_y, bin_classifier(test_x, w, b), 0.95))\n",
    "print(\"Threshold 0.99\", error_types(test_y, bin_classifier(test_x, w, b), 0.99))"
   ]
  },
  {
   "cell_type": "markdown",
   "metadata": {},
   "source": [
    "In the last case we didn't obtain any false positive but we missed 215 possible molecules. Are we still obtainging some true positive molecules though?"
   ]
  },
  {
   "cell_type": "code",
   "execution_count": 18,
   "metadata": {},
   "outputs": [
    {
     "name": "stdout",
     "output_type": "stream",
     "text": [
      "Total positives: 269 Predicted Positives: 50\n"
     ]
    }
   ],
   "source": [
    "total_pos = np.sum(test_y)\n",
    "print(\n",
    "    \"Total positives:\",\n",
    "    total_pos,\n",
    "    \"Predicted Positives:\",\n",
    "    np.sum(bin_classifier(test_x, w, b) > 0.99),\n",
    ")"
   ]
  },
  {
   "cell_type": "markdown",
   "metadata": {},
   "source": [
    "Yes, we are obtaining 54 molecules that will pass the FDA test while minimizing the false possitives a lot. We cannot do that with `alt_classifier`, since it only provides ones."
   ]
  },
  {
   "cell_type": "markdown",
   "metadata": {},
   "source": [
    "### 4.2. Receiver-Operating Characteristic Curve\n",
    "\n",
    "We can plot threshold, false positive rate, and true positive rate all together on one plot to capture model accuracy and balance between error type in a Receiver-Operating Characteristic Curve (**ROC curve**). The x-axis of ROC curve is false positive rate and the y-axis is true positive rate. Each point on the plot is our model with different thresholds. How do we choose which thresholds to use? It is the set of unique class probabilities we saw (namely, `np.unique`). We do need to add two extremes to this set though: all positive (threshold of 0.0) and all negative (1.0)."
   ]
  },
  {
   "cell_type": "code",
   "execution_count": 19,
   "metadata": {},
   "outputs": [
    {
     "data": {
      "image/png": "[encoded data removed]",
      "text/plain": [
       "<Figure size 432x288 with 1 Axes>"
      ]
     },
     "metadata": {
      "needs_background": "light"
     },
     "output_type": "display_data"
    }
   ],
   "source": [
    "unique_threshes = np.unique(bin_classifier(test_x, w, b))\n",
    "fp = []\n",
    "tp = []\n",
    "total_pos = np.sum(test_y)\n",
    "for ut in list(unique_threshes) + [-0.1, 1.01]:\n",
    "    errors = error_types(test_y, bin_classifier(test_x, w, b), ut)\n",
    "    fp.append(errors[0])               # False positives\n",
    "    tp.append(total_pos - errors[1])   # True positives = Total - Missed (false negatives)\n",
    "\n",
    "# sort them so can plot as a line\n",
    "idx = np.argsort(fp)\n",
    "fpr = np.array(fp)[idx] / (len(test_y) - np.sum(test_y))\n",
    "tpr = np.array(tp)[idx] / np.sum(test_y)\n",
    "\n",
    "# now remove duplicate x-values\n",
    "fpr_nd = []\n",
    "tpr_nd = []\n",
    "last = None\n",
    "for f, t in zip(fpr, tpr):\n",
    "    if last is None or f != last:\n",
    "        last = f\n",
    "        fpr_nd.append(f)\n",
    "        tpr_nd.append(t)\n",
    "\n",
    "plt.plot(fpr_nd, tpr_nd, \"-o\", label=\"Trained Model\")\n",
    "plt.plot([0, 1], [0, 1], label=\"Naive Classifier\")\n",
    "plt.ylabel(\"True Positive Rate\")\n",
    "plt.xlabel(\"False Positive Rate\")\n",
    "plt.legend()\n",
    "plt.show()"
   ]
  },
  {
   "cell_type": "markdown",
   "metadata": {},
   "source": [
    "This plot nicely shows how our trained model is actually sensitive to threshold, so that we could choose to more carefully screen for false negative or false positives. The best curves fall to the top-left of this plot. Our naive classifier is where we return a fixed percentage of examples randomly as positive or negative. You can plot the area under this curve with an integration and this is a good way to measure classifier performance and correctly capture the effect of both false negatives and false positives. The area under the ROC curve is known as the **ROC AUC score** and is preferred to accuracy because it captures the balance of Type I and II errors."
   ]
  },
  {
   "cell_type": "markdown",
   "metadata": {},
   "source": [
    "### 4.3. Other Metrics\n",
    "\n",
    "I will just mention that there are other ways to assess how your model balances the two error types. One major type is called precision and recall. Precision measures correctness of predicted positives and recall measures number of predicted positives. This can be a good viewpoint when doing molecular screening – you may want to be very precise in that your proposed molecules are accurate while sacrificing recall. Recall here meaning you do not return very many molecules. Models on the left of an ROC curve are precise. Models at the top have good recall."
   ]
  },
  {
   "cell_type": "markdown",
   "metadata": {},
   "source": [
    "### 4.3.1. Confusion Matrix\n",
    "\n",
    "A confusion matrix is a table of counts indicating true and predicted classes. For example, consider we are categorizing molecules into three classes: insoluble, weakly soluble, and soluble. We can represent a classifier’s performance in a table:\n",
    "\n",
    "| True \\ Predicted | insoluble | weakly soluble | soluble |\n",
    "|------------------|-----------|----------------|---------|\n",
    "| insoluble        |   121     |       8        |     1   |\n",
    "| weakly soluble   |   7       |       45       |    18   |\n",
    "| soluble          |   11      |       4        |    56   |\n",
    "\n",
    "The diagonal elements show when the predicted and true labels agree. For example, 121 molecules were actually insoluble and predicted to be insolbule. We can also read how the classifier failed. One molecule was predicted to be soluble, but was actually insoluble. 4 molecules were predicted to be weakly soluble, but were actually soluble. This can help us understand how the classifier is failing."
   ]
  },
  {
   "cell_type": "markdown",
   "metadata": {},
   "source": [
    "## 4.4. Class Imbalance\n",
    "\n",
    "The reason for this uneven amount of false positives and false negatives is that we have very few negative example – molecules which failed FDA clinical trials. This also explains why just predicting success has a high accuracy. How can we address this problem?\n",
    "\n",
    "The first answer is do nothing. Is this imbalance a problem at all? Maybe the testing set will see the same class imbalance, meaning that the training set has been properly sampled.\n",
    "\n",
    "The second solution is to somehow **weight your training data** to appear more like your testing data when you think you do have label shift. There are two ways to accomplish this. You could “augment” your training data by repeating the minority class until the ratio of minority to majority examples matches the assumed testing data. There are research papers written on this topic, with intuitive results. You can **over-sample minority class** but that can lead to a large dataset, so you can also **under-sample the majority class**.\n",
    "\n",
    "Another method of weighing data is to modify your loss function to increase the gradient updates applied to minority examples. This is equivalent to saying there is a difference in loss between a false positive vs a false negative. In our case, false positives are rarer and more important so we want that when a false positive appears the gradient is significantly affected. We create a weight vector that is high for negative labels so that when they are missclassified (false positive), there will be a bigger update."
   ]
  },
  {
   "cell_type": "code",
   "execution_count": 20,
   "metadata": {},
   "outputs": [
    {
     "data": {
      "image/png": "[encoded data removed]",
      "text/plain": [
       "<Figure size 432x288 with 1 Axes>"
      ]
     },
     "metadata": {
      "needs_background": "light"
     },
     "output_type": "display_data"
    },
    {
     "name": "stdout",
     "output_type": "stream",
     "text": [
      "Normal Classifier (20, 19)\n",
      "Weighted Classifier (8, 115)\n"
     ]
    }
   ],
   "source": [
    "def bin_classifier(x, w, b):\n",
    "    v = jnp.dot(x, w) + b\n",
    "    y = jax.nn.sigmoid(v)\n",
    "    return y\n",
    "\n",
    "\n",
    "def weighted_cross_ent(y, yhat, yw):\n",
    "    # weights may not be normalized\n",
    "    N = jnp.sum(yw)\n",
    "    # use weighted sum instead\n",
    "    return (\n",
    "        jnp.sum(\n",
    "            -(yw * y * jnp.log(yhat + 1e-10) + yw * (1 - y) * jnp.log(1 - yhat + 1e-10))\n",
    "        )\n",
    "        / N\n",
    "    )\n",
    "\n",
    "\n",
    "def loss_wrapper(w, b, x, y, yw):\n",
    "    yhat = bin_classifier(x, w, b)\n",
    "    return weighted_cross_ent(y, yhat, yw)\n",
    "\n",
    "\n",
    "loss_grad = jax.grad(loss_wrapper, (0, 1))\n",
    "w2 = np.random.normal(scale=0.01, size=len(features.columns))\n",
    "b2 = 1.0\n",
    "weights = np.ones_like(labels)\n",
    "# make the labels = 0 values be much larger\n",
    "weights[labels.values == 0] *= 1000\n",
    "# now make weights be on average 1\n",
    "# to keep our learning rate/avg update consistent\n",
    "weights = weights * len(weights) / np.sum(weights)\n",
    "\n",
    "loss_progress = []\n",
    "test_loss_progress = []\n",
    "eta = 0.2\n",
    "# make epochs larger since this has\n",
    "# very large steps that converge poorly\n",
    "for epoch in range(10):\n",
    "    for i in range(len(batch_idx) - 1):\n",
    "        x = features[batch_idx[i] : batch_idx[i + 1]].values.astype(np.float32)\n",
    "        y = labels[batch_idx[i] : batch_idx[i + 1]].values\n",
    "        yw = weights[batch_idx[i] : batch_idx[i + 1]]\n",
    "        grad = loss_grad(w2, b2, x, y, yw)\n",
    "        w2 -= eta * grad[0]\n",
    "        b2 -= eta * grad[1]\n",
    "        loss_progress.append(loss_wrapper(w2, b2, x, y, yw))\n",
    "        test_loss_progress.append(\n",
    "            loss_wrapper(w2, b2, test_x, test_y, np.ones_like(test_y))\n",
    "        )\n",
    "plt.plot(loss_progress, label=\"Training Loss\")\n",
    "plt.plot(test_loss_progress, label=\"Testing Loss\")\n",
    "\n",
    "plt.xlabel(\"Step\")\n",
    "plt.legend()\n",
    "plt.ylabel(\"Loss\")\n",
    "plt.show()\n",
    "\n",
    "print(\"Normal Classifier\", error_types(test_y, bin_classifier(test_x, w, b), 0.5))\n",
    "print(\"Weighted Classifier\", error_types(test_y, bin_classifier(test_x, w2, b2), 0.5))"
   ]
  },
  {
   "cell_type": "markdown",
   "metadata": {},
   "source": [
    "The spikes in loss occur when we see a rare negative example, which are weighted heavily. Compared to the normal classifier trained above, we have fewer false positives at a threshold of 0.5. However, we also have more false negatives. We saw above that we could tweak this by changing our threshold. Let’s see how our model looks on an ROC curve to compare our model trained with weighting with the previous model at all thresholds."
   ]
  },
  {
   "cell_type": "code",
   "execution_count": 21,
   "metadata": {},
   "outputs": [
    {
     "data": {
      "image/png": "[encoded data removed]",
      "text/plain": [
       "<Figure size 432x288 with 1 Axes>"
      ]
     },
     "metadata": {
      "needs_background": "light"
     },
     "output_type": "display_data"
    }
   ],
   "source": [
    "unique_threshes = np.unique(bin_classifier(test_x, w2, b2))\n",
    "fp = []\n",
    "tp = []\n",
    "total_pos = np.sum(test_y)\n",
    "for ut in list(unique_threshes) + [-0.1, 1.01]:\n",
    "    errors = error_types(test_y, bin_classifier(test_x, w2, b2), ut)\n",
    "    fp.append(errors[0])\n",
    "    tp.append(total_pos - errors[1])\n",
    "\n",
    "# sort them so can plot as a line\n",
    "idx = np.argsort(fp)\n",
    "fpr = np.array(fp)[idx] / (len(test_y) - np.sum(test_y))\n",
    "tpr = np.array(tp)[idx] / np.sum(test_y)\n",
    "\n",
    "# now remove duplicate x-values\n",
    "fpr_nd2 = []\n",
    "tpr_nd2 = []\n",
    "last = None\n",
    "for f, t in zip(fpr, tpr):\n",
    "    if last is None or f != last:\n",
    "        last = f\n",
    "        fpr_nd2.append(f)\n",
    "        tpr_nd2.append(t)\n",
    "\n",
    "plt.plot(fpr_nd, tpr_nd, \"-o\", label=\"Normal Model\")\n",
    "plt.plot(fpr_nd2, tpr_nd2, \"-o\", label=\"Weighted Model\")\n",
    "plt.plot([0, 1], [0, 1], label=\"Naive Classifier\")\n",
    "plt.ylabel(\"True Positive Rate\")\n",
    "plt.xlabel(\"False Positive Rate\")\n",
    "plt.legend()\n",
    "plt.show()"
   ]
  },
  {
   "cell_type": "markdown",
   "metadata": {},
   "source": [
    "There is improvement in the range 0.05 to 0.2, but then the normal model behaves better.\n",
    "\n",
    "In summary, we can modify the behavior in the model (to be more precise or have more recall) both in the training process and in the prost training process."
   ]
  },
  {
   "cell_type": "markdown",
   "metadata": {},
   "source": [
    "## 4.5. Overfitting\n",
    "\n",
    "We didn't consider overfitting in this chapter, but we could have used previous techniques la Jacknife+ and cross-validation to assess it, as well as regularization since our model has hundreds of descriptors."
   ]
  },
  {
   "cell_type": "markdown",
   "metadata": {},
   "source": [
    "## 4.6. Chapter Summary\n",
    "\n",
    "- We introduced classification, which is supervised learning with categorical labels. The labels can be single binary values - representing 2 classes which is binary classification.\n",
    "- We can compute descriptors for molecules using Python packages and do not require them to be part of our dataset\n",
    "- Cross-entropy loss should be used for classification tasks\n",
    "- Classification models (called classifiers) can output distance from decision boundary or, more commonly, probability of class\n",
    "- The Perceptron is an early example of a neural network classifier that has a special training procedure\n",
    "- The sigmoid and soft-max functions convert real numbers into probabilities\n",
    "- Binary classification error can be false positives or false negatives\n",
    "- Accuracy does not distinguish these two errors, so receive-operator characteristic (ROC) curves can be used to assess model performance. Precision and recall are other commonly used measures.\n",
    "- An imbalance of classes in training data is not necessarily a problem and can be addressed by weighting training examples\n"
   ]
  }
 ],
 "metadata": {
  "interpreter": {
   "hash": "916dbcbb3f70747c44a77c7bcd40155683ae19c65e1c03b4aa3499c5328201f1"
  },
  "kernelspec": {
   "display_name": "Python 3.10.4 64-bit",
   "language": "python",
   "name": "python3"
  },
  "language_info": {
   "codemirror_mode": {
    "name": "ipython",
    "version": 3
   },
   "file_extension": ".py",
   "mimetype": "text/x-python",
   "name": "python",
   "nbconvert_exporter": "python",
   "pygments_lexer": "ipython3",
   "version": "3.10.4"
  },
  "orig_nbformat": 4
 },
 "nbformat": 4,
 "nbformat_minor": 2
}
