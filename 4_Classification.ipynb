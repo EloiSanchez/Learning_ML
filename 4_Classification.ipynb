{
 "cells": [
  {
   "cell_type": "markdown",
   "metadata": {},
   "source": [
    "# Classification\n",
    "\n",
    "## 1. Data\n",
    "\n",
    "The dataset for this lecture was prepared by the MoleculeNet group [WRF+18]. It is a collection of molecules that succeeded or failed in clinical trials."
   ]
  },
  {
   "cell_type": "code",
   "execution_count": 1,
   "metadata": {},
   "outputs": [],
   "source": [
    "import pandas as pd\n",
    "import matplotlib.pyplot as plt\n",
    "import rdkit, rdkit.Chem, rdkit.Chem.Draw\n",
    "import numpy as np\n",
    "import jax.numpy as jnp\n",
    "import mordred, mordred.descriptors\n",
    "import jax"
   ]
  },
  {
   "cell_type": "code",
   "execution_count": 2,
   "metadata": {},
   "outputs": [
    {
     "data": {
      "text/html": [
       "<div>\n",
       "<style scoped>\n",
       "    .dataframe tbody tr th:only-of-type {\n",
       "        vertical-align: middle;\n",
       "    }\n",
       "\n",
       "    .dataframe tbody tr th {\n",
       "        vertical-align: top;\n",
       "    }\n",
       "\n",
       "    .dataframe thead th {\n",
       "        text-align: right;\n",
       "    }\n",
       "</style>\n",
       "<table border=\"1\" class=\"dataframe\">\n",
       "  <thead>\n",
       "    <tr style=\"text-align: right;\">\n",
       "      <th></th>\n",
       "      <th>smiles</th>\n",
       "      <th>FDA_APPROVED</th>\n",
       "      <th>CT_TOX</th>\n",
       "    </tr>\n",
       "  </thead>\n",
       "  <tbody>\n",
       "    <tr>\n",
       "      <th>0</th>\n",
       "      <td>*C(=O)[C@H](CCCCNC(=O)OCCOC)NC(=O)OCCOC</td>\n",
       "      <td>1</td>\n",
       "      <td>0</td>\n",
       "    </tr>\n",
       "    <tr>\n",
       "      <th>1</th>\n",
       "      <td>[C@@H]1([C@@H]([C@@H]([C@H]([C@@H]([C@@H]1Cl)C...</td>\n",
       "      <td>1</td>\n",
       "      <td>0</td>\n",
       "    </tr>\n",
       "    <tr>\n",
       "      <th>2</th>\n",
       "      <td>[C@H]([C@@H]([C@@H](C(=O)[O-])O)O)([C@H](C(=O)...</td>\n",
       "      <td>1</td>\n",
       "      <td>0</td>\n",
       "    </tr>\n",
       "    <tr>\n",
       "      <th>3</th>\n",
       "      <td>[H]/[NH+]=C(/C1=CC(=O)/C(=C\\C=c2ccc(=C([NH3+])...</td>\n",
       "      <td>1</td>\n",
       "      <td>0</td>\n",
       "    </tr>\n",
       "    <tr>\n",
       "      <th>4</th>\n",
       "      <td>[H]/[NH+]=C(\\N)/c1ccc(cc1)OCCCCCOc2ccc(cc2)/C(...</td>\n",
       "      <td>1</td>\n",
       "      <td>0</td>\n",
       "    </tr>\n",
       "  </tbody>\n",
       "</table>\n",
       "</div>"
      ],
      "text/plain": [
       "                                              smiles  FDA_APPROVED  CT_TOX\n",
       "0            *C(=O)[C@H](CCCCNC(=O)OCCOC)NC(=O)OCCOC             1       0\n",
       "1  [C@@H]1([C@@H]([C@@H]([C@H]([C@@H]([C@@H]1Cl)C...             1       0\n",
       "2  [C@H]([C@@H]([C@@H](C(=O)[O-])O)O)([C@H](C(=O)...             1       0\n",
       "3  [H]/[NH+]=C(/C1=CC(=O)/C(=C\\C=c2ccc(=C([NH3+])...             1       0\n",
       "4  [H]/[NH+]=C(\\N)/c1ccc(cc1)OCCCCCOc2ccc(cc2)/C(...             1       0"
      ]
     },
     "execution_count": 2,
     "metadata": {},
     "output_type": "execute_result"
    }
   ],
   "source": [
    "# from zipfile import ZipFile\n",
    "# from io import BytesIO\n",
    "# from urllib.request import urlopen\n",
    "\n",
    "# from web version\n",
    "# url = 'https://deepchemdata.s3-us-west-1.amazonaws.com/datasets/clintox.csv.gz'\n",
    "# file = urlopen(url).read()\n",
    "# file = BytesIO(file)\n",
    "# document = ZipFile(file)\n",
    "# toxdata = pd.read_csv(document.open('clintox.csv'))\n",
    "\n",
    "# local version\n",
    "toxdata = pd.read_csv(\n",
    "    \"https://github.com/whitead/dmol-book/raw/master/data/clintox.csv.gz\"\n",
    ")\n",
    "toxdata.head()"
   ]
  },
  {
   "cell_type": "markdown",
   "metadata": {},
   "source": [
    "## 2. Molecular Descriptors\n",
    "\n",
    "This time, our data does not come with pre-computed descriptors. We only have the SMILES string, which is a way of writing a molecule using letters and numbers (a string). We can use rdkit to convert the SMILES string into a molecule, and then we can use a package called Mordred to compute a set of descriptors for each molecule. This package will compute around 1500 descriptors for each molecule.\n",
    "\n",
    "We’ll start by converting our molecules into rdkit objects and building a calculator to compute the descriptors."
   ]
  },
  {
   "cell_type": "code",
   "execution_count": 3,
   "metadata": {},
   "outputs": [
    {
     "name": "stderr",
     "output_type": "stream",
     "text": [
      "[09:54:11] Explicit valence for atom # 0 N, 5, is greater than permitted\n",
      "[09:54:11] Can't kekulize mol.  Unkekulized atoms: 9\n",
      "[09:54:11] Explicit valence for atom # 10 N, 4, is greater than permitted\n",
      "[09:54:11] Explicit valence for atom # 10 N, 4, is greater than permitted\n",
      "[09:54:11] Can't kekulize mol.  Unkekulized atoms: 4\n",
      "[09:54:11] Can't kekulize mol.  Unkekulized atoms: 4\n"
     ]
    },
    {
     "data": {
      "image/png": "[encoded data removed]",
      "text/plain": [
       "<rdkit.Chem.rdchem.Mol at 0x7f7015f926e0>"
      ]
     },
     "execution_count": 3,
     "metadata": {},
     "output_type": "execute_result"
    }
   ],
   "source": [
    "# make object that can compute descriptors\n",
    "calc = mordred.Calculator(mordred.descriptors, ignore_3D=True)\n",
    "# make subsample from pandas df\n",
    "molecules = [rdkit.Chem.MolFromSmiles(smi) for smi in toxdata.smiles]\n",
    "\n",
    "# view one molecule to make sure things look good.\n",
    "molecules[0]"
   ]
  },
  {
   "cell_type": "markdown",
   "metadata": {},
   "source": [
    "Some of our molecules failed to be converted. We’ll have to remove them. We need to remember which ones were deleted too, since we need to remove the failed molecules from the labels."
   ]
  },
  {
   "cell_type": "code",
   "execution_count": 4,
   "metadata": {},
   "outputs": [
    {
     "name": "stdout",
     "output_type": "stream",
     "text": [
      "/home/eloisanchez/.local/lib/python3.10/site-packages/numpy/core/fromnumeric.py:86: RuntimeWarning: overflow encountered in reduce\n",
      "  return ufunc.reduce(obj, axis, dtype, out, **passkwargs)\n",
      "/home/eloisanchez/.local/lib/python3.10/site-packages/numpy/core/fromnumeric.py:86: RuntimeWarning: overflow encountered in reduce\n",
      "  return ufunc.reduce(obj, axis, dtype, out, **passkwargs)\n",
      "/home/eloisanchez/.local/lib/python3.10/site-packages/numpy/core/fromnumeric.py:86: RuntimeWarning: overflow encountered in reduce\n",
      "  return ufunc.reduce(obj, axis, dtype, out, **passkwargs)\n",
      "/home/eloisanchez/.local/lib/python3.10/site-packages/numpy/core/fromnumeric.py:86: RuntimeWarning: overflow encountered in reduce\n",
      "  return ufunc.reduce(obj, axis, dtype, out, **passkwargs)\n",
      "/home/eloisanchez/.local/lib/python3.10/site-packages/numpy/core/fromnumeric.py:86: RuntimeWarning: overflow encountered in reduce\n",
      "  return ufunc.reduce(obj, axis, dtype, out, **passkwargs)\n",
      "/home/eloisanchez/.local/lib/python3.10/site-packages/numpy/core/fromnumeric.py:86: RuntimeWarning: overflow encountered in reduce\n",
      "  return ufunc.reduce(obj, axis, dtype, out, **passkwargs)\n",
      "/home/eloisanchez/.local/lib/python3.10/site-packages/numpy/core/fromnumeric.py:86: RuntimeWarning: overflow encountered in reduce\n",
      "  return ufunc.reduce(obj, axis, dtype, out, **passkwargs)\n",
      "/home/eloisanchez/.local/lib/python3.10/site-packages/numpy/core/fromnumeric.py:86: RuntimeWarning: overflow encountered in reduce\n",
      "  return ufunc.reduce(obj, axis, dtype, out, **passkwargs)\n"
     ]
    }
   ],
   "source": [
    "# the invalid molecules were None, so we'll just\n",
    "# use the fact the None is False in Python\n",
    "valid_mol_idx = [bool(m) for m in molecules]\n",
    "valid_mols = [m for m in molecules if m]\n",
    "\n",
    "# Get the features from the mordred calculator\n",
    "features = calc.pandas(valid_mols)"
   ]
  },
  {
   "cell_type": "markdown",
   "metadata": {},
   "source": [
    "Now we just need to stich everything back together so that our labels are consistent and standardize our features."
   ]
  },
  {
   "cell_type": "code",
   "execution_count": 5,
   "metadata": {},
   "outputs": [
    {
     "name": "stderr",
     "output_type": "stream",
     "text": [
      "/tmp/ipykernel_8538/2238410431.py:2: FutureWarning: Dropping of nuisance columns in DataFrame reductions (with 'numeric_only=None') is deprecated; in a future version this will raise TypeError.  Select only valid columns before calling the reduction.\n",
      "  features -= features.mean()\n"
     ]
    },
    {
     "name": "stdout",
     "output_type": "stream",
     "text": [
      "We have 483 features per molecule\n"
     ]
    }
   ],
   "source": [
    "labels = toxdata[valid_mol_idx].FDA_APPROVED\n",
    "features -= features.mean()\n",
    "features /= features.std()\n",
    "\n",
    "# we have some nans in features, likely because std was 0\n",
    "features.dropna(inplace=True, axis=1)\n",
    "\n",
    "print(f\"We have {len(features.columns)} features per molecule\")"
   ]
  },
  {
   "cell_type": "markdown",
   "metadata": {},
   "source": [
    "## 3. Classification Models\n",
    "\n",
    "### 3.1. Linear Perceptron\n",
    "\n",
    "We can use regression. Basically if $\\vec{w}·\\vec{x}+b>0$ then $\\hat{f}(\\vec{x})=1$ and $\\hat{f}(\\vec{x})=0$ otherwise.\n",
    "\n",
    "This model is called **perceptron** and is the first neuran network for classification. It is an example of a **hard** classifier, as it does not predict the probability of the class, it just predicts exactly one class.\n",
    "\n",
    "The distance of $\\vec{w}·\\vec{x}+b$ from 0 is called the **decision boundary**."
   ]
  },
  {
   "cell_type": "code",
   "execution_count": 6,
   "metadata": {},
   "outputs": [],
   "source": [
    "def perceptron(x, w, b):\n",
    "    v = jnp.dot(x, w) + b\n",
    "    y = jnp.where(v > 0, x=jnp.zeros_like(v), y=jnp.ones_like(v))\n",
    "    return y"
   ]
  },
  {
   "cell_type": "markdown",
   "metadata": {},
   "source": [
    "Now that we have a model, we must choose a loss function. We haven’t learned about many loss functions yet. We’ve only seen mean squared error. Let us begin with a related loss called mean absolute error (MAE). MAE measures disagreement between our class and the predicted class. This is like an accuracy – what percentage of the time we’re correct.\n",
    "$$\n",
    "L=\\frac{1}{N}\\sum_i{|y_i-\\hat{y}_i|}\n",
    "$$"
   ]
  },
  {
   "cell_type": "code",
   "execution_count": 7,
   "metadata": {},
   "outputs": [],
   "source": [
    "def loss(y, yhat):\n",
    "    return jnp.mean(jnp.abs(y - yhat))\n",
    "\n",
    "\n",
    "def loss_wrapper(w, b, x, y):\n",
    "    yhat = perceptron(x, w, b)\n",
    "    return loss(y, yhat)\n",
    "\n",
    "\n",
    "loss_grad = jax.grad(loss_wrapper, (0, 1))"
   ]
  },
  {
   "cell_type": "markdown",
   "metadata": {},
   "source": [
    "Now create the training and testing sets"
   ]
  },
  {
   "cell_type": "code",
   "execution_count": 8,
   "metadata": {},
   "outputs": [
    {
     "name": "stdout",
     "output_type": "stream",
     "text": [
      "(296, 483) (296,)\n"
     ]
    }
   ],
   "source": [
    "batch_size = 32\n",
    "train_N = int(len(labels) * 0.8)  # 80% for training and 20% for testing\n",
    "\n",
    "\n",
    "N = len(labels)\n",
    "batch_idx = range(0, train_N, batch_size)\n",
    "\n",
    "# Random initialization of the parameters\n",
    "w = np.random.normal(size=len(features.columns))\n",
    "b = 0.0\n",
    "\n",
    "# Create the function to calculate the gradient\n",
    "loss_grad = jax.grad(loss_wrapper, (0, 1))\n",
    "\n",
    "# Get the testing datasets\n",
    "test_x = features[train_N:].values.astype(np.float32)\n",
    "test_y = labels[train_N:].values\n",
    "\n",
    "print(test_x.shape, test_y.shape)"
   ]
  },
  {
   "cell_type": "markdown",
   "metadata": {},
   "source": [
    "Let’s now try out our gradient to make sure it works"
   ]
  },
  {
   "cell_type": "code",
   "execution_count": 14,
   "metadata": {},
   "outputs": [
    {
     "name": "stderr",
     "output_type": "stream",
     "text": [
      "WARNING:absl:No GPU/TPU found, falling back to CPU. (Set TF_CPP_MIN_LOG_LEVEL=0 and rerun for more info.)\n"
     ]
    },
    {
     "data": {
      "text/plain": [
       "(DeviceArray([0., 0., 0., 0., 0., 0., 0., 0., 0., 0., 0., 0., 0., 0., 0.,\n",
       "              0., 0., 0., 0., 0., 0., 0., 0., 0., 0., 0., 0., 0., 0., 0.,\n",
       "              0., 0., 0., 0., 0., 0., 0., 0., 0., 0., 0., 0., 0., 0., 0.,\n",
       "              0., 0., 0., 0., 0., 0., 0., 0., 0., 0., 0., 0., 0., 0., 0.,\n",
       "              0., 0., 0., 0., 0., 0., 0., 0., 0., 0., 0., 0., 0., 0., 0.,\n",
       "              0., 0., 0., 0., 0., 0., 0., 0., 0., 0., 0., 0., 0., 0., 0.,\n",
       "              0., 0., 0., 0., 0., 0., 0., 0., 0., 0., 0., 0., 0., 0., 0.,\n",
       "              0., 0., 0., 0., 0., 0., 0., 0., 0., 0., 0., 0., 0., 0., 0.,\n",
       "              0., 0., 0., 0., 0., 0., 0., 0., 0., 0., 0., 0., 0., 0., 0.,\n",
       "              0., 0., 0., 0., 0., 0., 0., 0., 0., 0., 0., 0., 0., 0., 0.,\n",
       "              0., 0., 0., 0., 0., 0., 0., 0., 0., 0., 0., 0., 0., 0., 0.,\n",
       "              0., 0., 0., 0., 0., 0., 0., 0., 0., 0., 0., 0., 0., 0., 0.,\n",
       "              0., 0., 0., 0., 0., 0., 0., 0., 0., 0., 0., 0., 0., 0., 0.,\n",
       "              0., 0., 0., 0., 0., 0., 0., 0., 0., 0., 0., 0., 0., 0., 0.,\n",
       "              0., 0., 0., 0., 0., 0., 0., 0., 0., 0., 0., 0., 0., 0., 0.,\n",
       "              0., 0., 0., 0., 0., 0., 0., 0., 0., 0., 0., 0., 0., 0., 0.,\n",
       "              0., 0., 0., 0., 0., 0., 0., 0., 0., 0., 0., 0., 0., 0., 0.,\n",
       "              0., 0., 0., 0., 0., 0., 0., 0., 0., 0., 0., 0., 0., 0., 0.,\n",
       "              0., 0., 0., 0., 0., 0., 0., 0., 0., 0., 0., 0., 0., 0., 0.,\n",
       "              0., 0., 0., 0., 0., 0., 0., 0., 0., 0., 0., 0., 0., 0., 0.,\n",
       "              0., 0., 0., 0., 0., 0., 0., 0., 0., 0., 0., 0., 0., 0., 0.,\n",
       "              0., 0., 0., 0., 0., 0., 0., 0., 0., 0., 0., 0., 0., 0., 0.,\n",
       "              0., 0., 0., 0., 0., 0., 0., 0., 0., 0., 0., 0., 0., 0., 0.,\n",
       "              0., 0., 0., 0., 0., 0., 0., 0., 0., 0., 0., 0., 0., 0., 0.,\n",
       "              0., 0., 0., 0., 0., 0., 0., 0., 0., 0., 0., 0., 0., 0., 0.,\n",
       "              0., 0., 0., 0., 0., 0., 0., 0., 0., 0., 0., 0., 0., 0., 0.,\n",
       "              0., 0., 0., 0., 0., 0., 0., 0., 0., 0., 0., 0., 0., 0., 0.,\n",
       "              0., 0., 0., 0., 0., 0., 0., 0., 0., 0., 0., 0., 0., 0., 0.,\n",
       "              0., 0., 0., 0., 0., 0., 0., 0., 0., 0., 0., 0., 0., 0., 0.,\n",
       "              0., 0., 0., 0., 0., 0., 0., 0., 0., 0., 0., 0., 0., 0., 0.,\n",
       "              0., 0., 0., 0., 0., 0., 0., 0., 0., 0., 0., 0., 0., 0., 0.,\n",
       "              0., 0., 0., 0., 0., 0., 0., 0., 0., 0., 0., 0., 0., 0., 0.,\n",
       "              0., 0., 0.], dtype=float32),\n",
       " DeviceArray(0., dtype=float32, weak_type=True))"
      ]
     },
     "execution_count": 14,
     "metadata": {},
     "output_type": "execute_result"
    }
   ],
   "source": [
    "loss_grad(w, b, test_x, test_y)"
   ]
  },
  {
   "cell_type": "markdown",
   "metadata": {},
   "source": [
    "It’s all zeros! Why is that? It’s because our `jnp.where` statement above is not differentiable, nor are any inequalities where the result is a constant (1 or 0 in our case). The perceptron actually has a special training procedure that is not related to its derivatives. One of the motivating reasons that deep learning is popular is that we do not need to construct a special training process for each model we construct – like the training procedure for the perceptron.\n",
    "\n",
    "### 3.2 Logistic Regression\n",
    "\n",
    "Rather than teach and discuss the special perceptron training procedure, we’ll move to a more modern related classifier called a softmax binary classifier. This is a tiny change, the softmax binary classifier is:\n",
    "$$\n",
    "\\hat{f}(\\vec{x}) = \\sigma(\\vec{w}·\\vec{x}+b)\n",
    "$$"
   ]
  },
  {
   "cell_type": "markdown",
   "metadata": {},
   "source": [
    "The input to the sigmoid can be viewed as log-odds, called logits for short. Odds are ratios of probability – odds of 1 means the probability of the class 1 is 0.5 and class 0 is 0.5. Odds of 2 means the probability of class 1 is 0.67 and class 0 is 0.33. Log-odds is the natural logarithm of that, so that log-odds of 0 means the odds are 1 and the output probability should be 0.5. One definition of the sigmoid is\n",
    "$$\n",
    "\\sigma(x)=\\frac{1}{1+e^{-x}}\n",
    "$$\n",
    "\n",
    "This type of binary classifier is sometimes called logistic regression because we’re regressing logits.\n",
    "\n",
    "In essence, all we’ve done is replacing the inequality of the perceptron with a smooth differentiable version. Just like previously, a positive number indicated class 1 (FDA approved) but now it’s a continuum of numbers from 0.5 to 1.0. This is **soft** classification – we give probabilities of class membership instead of hard assignment. However, our loss function now needs to be modified as well."
   ]
  },
  {
   "cell_type": "markdown",
   "metadata": {},
   "source": [
    "There is a different loss function that works better with classification called **cross-entropy**. Cross-entropy is a loss function that describes distance between two probability distributions. When minimized, the two probability distributions are identical.\n",
    "\n",
    "How is comparing predicted values $\\hat{y}$ and $y$ like comparing two probability distributions? Even though these are both 1s and 0s in the case of hard classification, they do sum to 1, and so we consider them probability distributions. Cross-entropy is defined as:\n",
    "$$\n",
    "L=-\\sum_c^K{y_c \\log{\\hat{y}_c}}\n",
    "$$\n",
    "\n",
    "Where $c$ indicates the class considered and it's assumed that $\\sum_c^K y_c=1$ and $\\sum_c^K \\hat{y}_c=1$ like probabilities. When we have a binary classification $y_1 = 1 - y_0$ is also fulfilled and the loss function becomes\n",
    "$$\n",
    "L=-[y_0 \\log{\\hat{y}_0}+(1-y_0)\\log{(1-\\hat{y}_0})]\n",
    "$$\n",
    "\n",
    "Now we can create a batched gradient descent algorithm to train the classifier. Note, one change we need to do is use the built-in jax jax.nn.sigmoid function to avoid numerical instabilities and also add a small number to all logs to avoid numerical instabilities."
   ]
  },
  {
   "cell_type": "code",
   "execution_count": 15,
   "metadata": {},
   "outputs": [
    {
     "data": {
      "text/plain": [
       "(DeviceArray([ 1.75891537e-02,  1.82667524e-02, -3.72377522e-02,\n",
       "               3.82295102e-02,  5.98209761e-02,  5.87680452e-02,\n",
       "               5.59697917e-04,  1.07832756e-02,  5.33989221e-02,\n",
       "               3.84421903e-03, -8.45261943e-03, -9.02092177e-03,\n",
       "               8.19274783e-03,  1.91548262e-02,  3.28149647e-02,\n",
       "              -3.18248831e-02, -5.43109737e-02, -1.20379347e-02,\n",
       "               3.35625000e-02,  3.10756527e-02,  3.84263396e-02,\n",
       "              -1.43378656e-02,  3.84790897e-02,  8.68054852e-03,\n",
       "               2.88502537e-02,  1.91882420e-02,  2.16834676e-02,\n",
       "               1.10510541e-02,  1.31059450e-03, -2.57580727e-03,\n",
       "              -5.54740895e-03, -9.39316582e-03,  1.79300699e-02,\n",
       "               1.82993151e-02,  2.21075341e-02,  1.80812143e-02,\n",
       "               1.59600526e-02,  1.09306518e-02,  6.00710278e-03,\n",
       "               1.28435437e-03, -2.23844801e-03, -2.48912983e-02,\n",
       "              -1.63366832e-02,  7.33034080e-03,  9.55824088e-03,\n",
       "              -3.33827618e-03, -4.53671115e-03, -8.20363406e-03,\n",
       "              -7.32450606e-03, -1.08550619e-02,  4.83102910e-03,\n",
       "               7.46605992e-02, -6.95257410e-02, -2.43395893e-03,\n",
       "               1.01145254e-02, -5.51701188e-02, -6.61561489e-02,\n",
       "               2.11504996e-02,  2.69921720e-02, -1.25778103e-02,\n",
       "              -1.26665365e-02, -3.82184028e-03,  2.64835954e-02,\n",
       "               2.12823469e-02, -6.67392761e-02, -4.97479551e-02,\n",
       "              -6.22641761e-03,  1.90984029e-02,  1.05972281e-02,\n",
       "              -1.49176903e-02, -2.39212066e-02, -2.23839562e-02,\n",
       "              -1.93141066e-02,  1.53567242e-02, -6.76694289e-02,\n",
       "              -7.96044711e-03,  2.32435949e-02, -1.80755591e-03,\n",
       "               1.86161194e-02,  2.35237107e-02, -8.78202915e-03,\n",
       "               7.81133771e-02, -4.71798219e-02, -9.30792391e-02,\n",
       "               2.76666470e-02,  3.99466138e-03,  1.66467614e-02,\n",
       "              -8.28696601e-03, -1.54899461e-02,  2.71349512e-02,\n",
       "               5.87680452e-02,  5.00539802e-02, -1.44341576e-03,\n",
       "               4.02793102e-02,  2.83687804e-02,  3.59253176e-02,\n",
       "               9.26021487e-03,  6.57406822e-02,  4.50315736e-02,\n",
       "              -2.99697742e-02, -3.23101990e-02,  3.59833501e-02,\n",
       "               3.02853901e-02, -3.59462239e-02,  1.26810446e-02,\n",
       "              -1.16318921e-02,  4.19072388e-03,  4.74157333e-02,\n",
       "               4.94979136e-02,  1.01009673e-02, -5.74454777e-02,\n",
       "              -2.62085721e-02,  2.51739398e-02,  2.67748684e-02,\n",
       "               3.92196216e-02,  1.85441654e-02,  3.16504501e-02,\n",
       "               2.46620718e-02,  1.93245020e-02,  2.93544177e-02,\n",
       "               3.83786112e-02,  3.74939479e-02,  3.48192863e-02,\n",
       "               9.28475801e-03,  2.20582355e-02,  2.53071580e-02,\n",
       "               2.85285264e-02,  3.05902604e-02,  2.42556203e-02,\n",
       "               2.38053575e-02, -8.10756406e-04, -7.78841153e-02,\n",
       "               8.19274783e-03, -1.17294351e-02,  1.20693725e-02,\n",
       "              -6.71950877e-02,  5.45228273e-02,  3.39439474e-02,\n",
       "               6.09547980e-02,  1.40787112e-02,  2.45834738e-02,\n",
       "              -5.25826914e-03,  4.98044044e-02,  1.09709352e-02,\n",
       "               5.05867898e-02,  2.10084189e-02,  3.90600711e-02,\n",
       "              -1.56307742e-02,  2.58844122e-02,  6.20657392e-03,\n",
       "               7.45973448e-05, -2.75481120e-02,  2.80285850e-02,\n",
       "               3.00287902e-02, -5.52819227e-04,  9.28769074e-03,\n",
       "              -7.34801171e-03,  1.89104471e-02,  3.19420323e-02,\n",
       "              -3.00881080e-02, -4.31002378e-02, -2.20028907e-02,\n",
       "               3.35625000e-02, -5.23753911e-02, -3.86214964e-02,\n",
       "              -3.20233777e-03,  1.42192012e-02, -6.04795180e-02,\n",
       "              -4.40638773e-02,  4.29994287e-03, -3.53651645e-04,\n",
       "              -3.45053449e-02,  2.34931707e-02, -7.59001151e-02,\n",
       "               3.84263396e-02, -1.43378656e-02, -8.19250103e-03,\n",
       "              -7.50897126e-03,  1.24731520e-02, -6.13711886e-02,\n",
       "               5.41947596e-02,  2.96850577e-02,  6.10627085e-02,\n",
       "               2.23484039e-02,  2.66863294e-02,  1.75589398e-02,\n",
       "               4.34584804e-02,  2.11697500e-02, -2.68081669e-02,\n",
       "               2.12501269e-02,  4.01739553e-02, -1.09771760e-02,\n",
       "               3.18532325e-02,  5.46537200e-03, -7.51602463e-04,\n",
       "              -2.35768557e-02,  3.03581990e-02,  3.26398797e-02,\n",
       "               2.66298298e-02, -9.11473669e-03, -1.12233288e-03,\n",
       "               1.60514340e-02,  2.84786914e-02, -2.91409269e-02,\n",
       "              -3.64372469e-02, -2.15118006e-02,  3.44019234e-02,\n",
       "               5.23753911e-02, -3.86214964e-02,  2.67416146e-03,\n",
       "               1.43109346e-02, -6.04472645e-02, -4.39075641e-02,\n",
       "               9.56344325e-03, -3.13830376e-03,  3.51442769e-02,\n",
       "               2.56783161e-02,  7.59001151e-02,  3.90194580e-02,\n",
       "              -1.68975797e-02,  1.27625465e-01,  1.82694159e-02,\n",
       "               1.05394177e-01, -1.89989265e-02,  3.90794799e-02,\n",
       "               3.47948782e-02,  9.33978409e-02,  7.79262334e-02,\n",
       "               7.35780150e-02,  6.64404556e-02,  6.04237691e-02,\n",
       "               4.11918107e-03,  1.55700166e-02,  8.79405439e-03,\n",
       "               6.78719347e-03,  4.54928679e-03,  2.64871120e-03,\n",
       "               2.50867382e-02, -2.61057820e-02, -4.63669263e-02,\n",
       "              -6.74677491e-02, -6.51803762e-02, -5.78524582e-02,\n",
       "              -4.51863743e-02, -1.04788430e-02,  4.53675911e-03,\n",
       "               4.60826186e-03,  3.14987684e-03,  1.29819126e-03,\n",
       "               1.52025395e-03, -7.15631247e-03, -2.55785361e-02,\n",
       "              -3.42596062e-02, -3.16361077e-02, -2.53010690e-02,\n",
       "               5.20608248e-03,  3.36521529e-02, -4.30512475e-03,\n",
       "               7.29559269e-03, -3.52014136e-03,  6.69934135e-03,\n",
       "               2.09569931e-02,  1.05473269e-02,  2.04805620e-02,\n",
       "              -2.52887458e-02,  4.70132381e-02,  3.58909853e-02,\n",
       "              -2.30132099e-02,  2.92335171e-02, -2.61203330e-02,\n",
       "              -1.26664853e-02,  9.06318799e-03, -2.55302656e-02,\n",
       "               7.45973448e-05,  1.34421634e-02,  3.51163410e-02,\n",
       "              -2.43163332e-02, -2.93857995e-02,  7.42083192e-02,\n",
       "               1.93243027e-02,  5.90302749e-03, -1.15896175e-02,\n",
       "              -3.85975204e-02,  5.64767979e-02, -3.67629156e-02,\n",
       "               6.66093007e-02,  1.45261884e-02,  2.58084424e-02,\n",
       "               6.90989345e-02,  1.09788962e-03, -9.37367044e-03,\n",
       "              -2.64131464e-03,  9.93543956e-03,  6.90986126e-05,\n",
       "              -5.36022298e-02,  1.31795332e-02,  3.35031785e-02,\n",
       "               5.31804226e-02,  7.50046642e-03, -1.20047005e-02,\n",
       "              -2.18479987e-02, -8.44768528e-03,  1.39099769e-02,\n",
       "               6.25984594e-02,  1.28164999e-02,  5.87034747e-02,\n",
       "              -1.06570292e-02,  8.09142482e-04,  5.28790848e-03,\n",
       "               2.70700268e-02,  2.99497712e-02,  3.25993001e-02,\n",
       "               3.24249715e-02,  2.69228518e-02,  2.60371417e-02,\n",
       "               2.61871293e-02,  2.39594635e-02,  2.01430116e-02,\n",
       "               2.57077478e-02,  5.29461578e-02,  7.04828352e-02,\n",
       "               7.81967789e-02,  7.76161924e-02,  7.75367841e-02,\n",
       "               6.78376034e-02,  6.41374290e-02,  6.22386411e-02,\n",
       "               5.86606823e-02,  5.30534014e-02,  7.55083635e-02,\n",
       "               6.89830333e-02,  1.31490268e-02, -5.17834350e-02,\n",
       "               4.48235646e-02,  6.50110766e-02,  1.91180538e-02,\n",
       "               1.34014329e-02,  6.68708375e-03, -9.31101292e-03,\n",
       "              -7.67889142e-05,  3.22885327e-02,  1.68215670e-02,\n",
       "              -5.70926256e-02,  4.59467806e-02,  1.49371931e-02,\n",
       "               2.02046987e-02,  8.19274783e-03,  6.68708375e-03,\n",
       "              -9.31101292e-03, -7.67889142e-05,  5.65479547e-02,\n",
       "               1.13950204e-02,  5.93332388e-02,  4.72688070e-03,\n",
       "               6.34349417e-03,  3.71864550e-02,  1.13950204e-02,\n",
       "               4.39577326e-02,  6.34349417e-03,  3.50915231e-02,\n",
       "               1.31490268e-02, -5.17834350e-02,  4.91847470e-02,\n",
       "               2.45777890e-02,  1.89592298e-02,  1.34014329e-02,\n",
       "               6.68708375e-03, -9.31101292e-03, -1.38350681e-03,\n",
       "               1.43078696e-02,  1.68215670e-02, -5.70926256e-02,\n",
       "               5.59503809e-02, -1.18860006e-02,  2.02046987e-02,\n",
       "               8.19274783e-03,  6.68708375e-03, -9.31101292e-03,\n",
       "              -1.38350681e-03,  3.08577102e-02, -7.59001151e-02,\n",
       "               9.46337916e-03,  8.73924885e-03, -3.69793139e-02,\n",
       "               2.22917646e-02,  3.69775519e-02, -1.13263167e-02,\n",
       "               1.25316279e-02,  1.38993040e-02,  2.03007404e-02,\n",
       "              -7.59001151e-02,  9.46337916e-03,  5.05922316e-03,\n",
       "              -3.79744917e-02,  2.29636449e-02,  3.01285572e-02,\n",
       "              -1.13263167e-02,  1.25316279e-02,  1.02792475e-02,\n",
       "               2.16263551e-02, -8.77226354e-04,  4.61817868e-02,\n",
       "              -3.04683857e-02,  1.95395704e-02, -8.77226354e-04,\n",
       "               4.31962237e-02, -2.06762552e-02,  1.84138026e-02,\n",
       "              -7.59001151e-02,  9.46337916e-03,  8.73924885e-03,\n",
       "              -3.69793139e-02,  3.98177505e-02,  5.25850290e-03,\n",
       "              -1.13263167e-02,  1.25316279e-02,  2.05888264e-02,\n",
       "               8.95396899e-03, -7.59001151e-02,  9.46337916e-03,\n",
       "               5.05922316e-03, -3.79744917e-02,  4.48160134e-02,\n",
       "              -7.20056065e-04, -1.13263167e-02,  1.25316279e-02,\n",
       "               1.56476498e-02, -7.08411634e-02,  2.52142195e-02,\n",
       "               1.19048785e-02, -1.25671190e-03, -9.09666345e-03,\n",
       "               3.77016999e-02,  3.52441631e-02,  2.97695771e-02,\n",
       "               1.95219684e-02,  3.64119909e-03,  5.72772510e-03,\n",
       "               4.56815632e-03,  3.30073992e-04, -9.57478303e-03,\n",
       "              -9.29747149e-03,  3.06513049e-02,  5.51492944e-02,\n",
       "               5.39245121e-02,  7.13158399e-02,  2.29162164e-02,\n",
       "               5.52258827e-02,  4.19498496e-02,  3.86730842e-02,\n",
       "               1.96905602e-02,  2.22757962e-02,  6.46937788e-02,\n",
       "               1.51006460e-01,  1.51006475e-01,  1.66467614e-02,\n",
       "               5.83573803e-02,  6.44810498e-02,  6.93978742e-02,\n",
       "               7.26900026e-02,  7.51546323e-02,  7.70002082e-02,\n",
       "               7.82482326e-02,  7.93437362e-02,  7.99636990e-02,\n",
       "               2.83087250e-02,  4.83116917e-02,  1.28174303e-02,\n",
       "               6.00259341e-02,  5.88426739e-02,  6.90428242e-02,\n",
       "               6.13825619e-02,  7.47085884e-02,  6.14334941e-02,\n",
       "               7.79320374e-02,  4.10605893e-02, -1.27228978e-03,\n",
       "              -7.60466680e-02,  1.14536949e-01,  2.14746520e-02,\n",
       "               2.29261592e-02,  2.65458692e-02, -1.94283260e-04],            dtype=float32),\n",
       " DeviceArray(-0.18172382, dtype=float32, weak_type=True))"
      ]
     },
     "execution_count": 15,
     "metadata": {},
     "output_type": "execute_result"
    }
   ],
   "source": [
    "def bin_classifier(x, w, b):\n",
    "    v = jnp.dot(x, w) + b\n",
    "    return jax.nn.sigmoid(v)\n",
    "\n",
    "\n",
    "def cross_ent(y, yhat):\n",
    "    # Note that we add 1e-10 to the args of the logs to avoid numerical instability\n",
    "    return jnp.mean(-(y * jnp.log(yhat + 1e-10) + (1 - y) * jnp.log(1 - yhat + 1e-10)))\n",
    "\n",
    "\n",
    "def loss_wrapper(w, b, x, y):\n",
    "    yhat = bin_classifier(x, w, b)\n",
    "    return cross_ent(y, yhat)\n",
    "\n",
    "\n",
    "loss_grad = jax.grad(loss_wrapper, (0, 1))\n",
    "\n",
    "# Initialize random parameters\n",
    "w = np.random.normal(scale=0.01, size=len(features.columns))\n",
    "b = 1.0\n",
    "\n",
    "# Check that the gradient function works\n",
    "loss_grad(w, b, test_x, test_y)"
   ]
  },
  {
   "cell_type": "markdown",
   "metadata": {},
   "source": [
    "Now we create the training loop"
   ]
  },
  {
   "cell_type": "code",
   "execution_count": 16,
   "metadata": {},
   "outputs": [
    {
     "data": {
      "image/png": "[encoded data removed]",
      "text/plain": [
       "<Figure size 432x288 with 1 Axes>"
      ]
     },
     "metadata": {
      "needs_background": "light"
     },
     "output_type": "display_data"
    }
   ],
   "source": [
    "loss_progress = []\n",
    "test_loss_progress = []\n",
    "eta = 0.2\n",
    "for epoch in range(5):\n",
    "    for i in range(len(batch_idx) - 1):\n",
    "        # 1. Get data of this batch\n",
    "        x = features[batch_idx[i] : batch_idx[i + 1]].values.astype(np.float32)\n",
    "        y = labels[batch_idx[i] : batch_idx[i + 1]].values\n",
    "        # 2. Calculate gradient with this batch\n",
    "        grad = loss_grad(w, b, x, y)\n",
    "        # 3. Change the parameters in the direction of descending gradient\n",
    "        w -= eta * grad[0]\n",
    "        b -= eta * grad[1]\n",
    "        # 4. Recalculate loss and save\n",
    "        loss_progress.append(loss_wrapper(w, b, x, y))\n",
    "        test_loss_progress.append(loss_wrapper(w, b, test_x, test_y))\n",
    "plt.plot(loss_progress, label=\"Training Loss\")\n",
    "plt.plot(test_loss_progress, label=\"Testing Loss\")\n",
    "\n",
    "plt.xlabel(\"Step\")\n",
    "plt.legend()\n",
    "plt.ylabel(\"Loss\")\n",
    "plt.show()"
   ]
  },
  {
   "cell_type": "markdown",
   "metadata": {},
   "source": [
    "## 4. Classification Metrics\n",
    "\n",
    "In regression, we assessed model performance with a parity plot, correlation coefficient, or mean squared error. In classification, we use slightly different metrics. The first metric is **accuracy**. Accuracy is the percentage of time that the predicted label matches the true label. We do not have a hard classifier, so we have to choose how to turn probability into a specific class. For now, we will choose the class with the highest probability. Let’s see how this looks"
   ]
  },
  {
   "cell_type": "code",
   "execution_count": 18,
   "metadata": {},
   "outputs": [
    {
     "data": {
      "text/plain": [
       "0.8648648648648649"
      ]
     },
     "execution_count": 18,
     "metadata": {},
     "output_type": "execute_result"
    }
   ],
   "source": [
    "def accuracy(y, yhat):\n",
    "    # Conver from prob to hard class\n",
    "    #? Why do we use the ones_like function and not 1\n",
    "    hard_yhat = np.where(yhat > 0.5, np.ones_like(yhat), np.zeros_like(yhat))\n",
    "    disagree = np.sum(np.abs(y-hard_yhat))\n",
    "    return 1 - disagree / len(y)\n",
    "\n",
    "accuracy(test_y, bin_classifier(test_x, w, b))"
   ]
  },
  {
   "cell_type": "markdown",
   "metadata": {},
   "source": [
    "An accuracy of 0.83 seems quite reasonable! However, consider this model:"
   ]
  },
  {
   "cell_type": "code",
   "execution_count": 19,
   "metadata": {},
   "outputs": [
    {
     "data": {
      "text/plain": [
       "0.9087837837837838"
      ]
     },
     "execution_count": 19,
     "metadata": {},
     "output_type": "execute_result"
    }
   ],
   "source": [
    "def alt_classifier(x):\n",
    "    return np.ones((x.shape[0]))\n",
    "\n",
    "\n",
    "accuracy(test_y, alt_classifier(test_x))"
   ]
  },
  {
   "cell_type": "markdown",
   "metadata": {},
   "source": [
    "This model, which always returns 1, has better accuracy than our model. How is this possible?\n",
    "\n",
    "If you examine the data, you’ll see the majority of the molecules passed FDA clinical trials ($y=1$), so that just guessing 1 is a good strategy."
   ]
  },
  {
   "cell_type": "markdown",
   "metadata": {},
   "source": [
    "### 4.1. Error Types\n",
    "\n",
    "Let’s recall what we’re trying to do. We’re trying to predict if a molecule will make it through FDA clinical trials. Our model can be incorrect in two ways: it predicts a molecule will pass through clinical trials, but it actually fails. This is called a **false positive**. The other error is if we predict our drug will not make it through clinical trials, but it actually does. This is **false negative**.\n",
    "\n",
    "Our `alt_classifier` model, which simply reports everything as positive, has no false negative errors. It has many false positive errors. These two types of errors can be quantified. We’re going to add one complexity – threshold. Although we train our model to minimize cross-entropy, we may want to be more conservative or aggressive in our classification with the trained model."
   ]
  },
  {
   "cell_type": "code",
   "execution_count": 20,
   "metadata": {},
   "outputs": [],
   "source": [
    "def error_types(y, yhat, threshold):\n",
    "    hard_yhat = np.where(yhat >= threshold, np.ones_like(yhat), np.zeros_like(yhat))\n",
    "    # predicted 1, actually was 0 -> 1 (bool to remove predicted 0, actually was 1)\n",
    "    fp = np.sum((hard_yhat - y) > 0)\n",
    "    # predicted 0, actually was 1 -> 1 (bool to remove predicted 1, actually was 0)\n",
    "    fn = np.sum((y - hard_yhat) > 0)\n",
    "    return fp, fn"
   ]
  },
  {
   "cell_type": "code",
   "execution_count": 21,
   "metadata": {},
   "outputs": [
    {
     "name": "stdout",
     "output_type": "stream",
     "text": [
      "Alt Classifier (27, 0)\n",
      "Trained Classifier (20, 20)\n"
     ]
    }
   ],
   "source": [
    "print(\"Alt Classifier\", error_types(test_y, alt_classifier(test_x), 0.5))\n",
    "print(\"Trained Classifier\", error_types(test_y, bin_classifier(test_x, w, b), 0.5))"
   ]
  },
  {
   "cell_type": "markdown",
   "metadata": {},
   "source": [
    "We can see how increasing the threshold will minimize false positives at the cost of missing more possible aprovable molecules"
   ]
  },
  {
   "cell_type": "code",
   "execution_count": 22,
   "metadata": {},
   "outputs": [
    {
     "name": "stdout",
     "output_type": "stream",
     "text": [
      "Threshold 0.7 (16, 30)\n",
      "Threshold 0.9 (10, 84)\n",
      "Threshold 0.95 (7, 119)\n",
      "Threshold 0.99 (0, 215)\n"
     ]
    }
   ],
   "source": [
    "print(\"Threshold 0.7\", error_types(test_y, bin_classifier(test_x, w, b), 0.7))\n",
    "print(\"Threshold 0.9\", error_types(test_y, bin_classifier(test_x, w, b), 0.9))\n",
    "print(\"Threshold 0.95\", error_types(test_y, bin_classifier(test_x, w, b), 0.95))\n",
    "print(\"Threshold 0.99\", error_types(test_y, bin_classifier(test_x, w, b), 0.99))"
   ]
  },
  {
   "cell_type": "markdown",
   "metadata": {},
   "source": [
    "In the last case we didn't obtain any false positive but we missed 215 possible molecules. Are we still obtainging some true positive molecules though?"
   ]
  },
  {
   "cell_type": "code",
   "execution_count": 23,
   "metadata": {},
   "outputs": [
    {
     "name": "stdout",
     "output_type": "stream",
     "text": [
      "Total positives: 269 Predicted Positives: 54\n"
     ]
    }
   ],
   "source": [
    "total_pos = np.sum(test_y)\n",
    "print(\n",
    "    \"Total positives:\",\n",
    "    total_pos,\n",
    "    \"Predicted Positives:\",\n",
    "    np.sum(bin_classifier(test_x, w, b) > 0.99),\n",
    ")"
   ]
  },
  {
   "cell_type": "markdown",
   "metadata": {},
   "source": [
    "Yes, we are obtaining 54 molecules that will pass the FDA test while minimizing the false possitives a lot. We cannot do that with `alt_classifier`, since it only provides ones."
   ]
  },
  {
   "cell_type": "markdown",
   "metadata": {},
   "source": [
    "### 4.2. Receiver-Operating Characteristic Curve\n",
    "\n"
   ]
  }
 ],
 "metadata": {
  "interpreter": {
   "hash": "916dbcbb3f70747c44a77c7bcd40155683ae19c65e1c03b4aa3499c5328201f1"
  },
  "kernelspec": {
   "display_name": "Python 3.10.4 64-bit",
   "language": "python",
   "name": "python3"
  },
  "language_info": {
   "codemirror_mode": {
    "name": "ipython",
    "version": 3
   },
   "file_extension": ".py",
   "mimetype": "text/x-python",
   "name": "python",
   "nbconvert_exporter": "python",
   "pygments_lexer": "ipython3",
   "version": "3.10.4"
  },
  "orig_nbformat": 4
 },
 "nbformat": 4,
 "nbformat_minor": 2
}
