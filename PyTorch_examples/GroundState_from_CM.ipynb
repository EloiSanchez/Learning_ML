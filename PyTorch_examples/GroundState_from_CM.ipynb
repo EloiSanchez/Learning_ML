{
 "cells": [
  {
   "cell_type": "markdown",
   "metadata": {},
   "source": [
    "# Predicting GroundState Energy from Coulomb Matrices\n",
    "\n",
    "This [dataset](https://www.kaggle.com/datasets/burakhmmtgl/energy-molecule) contains ground state energies of 16,242 molecules calculated by quantum mechanical simulations.\n",
    "\n",
    "The data contains 1277 columns. The first 1275 columns are entries in the Coulomb matrix that act as molecular features. The 1276th column is the Pubchem Id where the molecular structures are obtained. The 1277th column is the atomization energy calculated by simulations using the Quantum Espresso package.\n",
    "\n",
    "In the csv file, the first column (X1) is the data index.\n",
    "\n",
    "The dataset was used for a [publication using a tree based ML Framework](https://arxiv.org/pdf/1609.07124.pdf)."
   ]
  },
  {
   "cell_type": "markdown",
   "metadata": {},
   "source": [
    "## Getting the data\n",
    "\n",
    "In this test we do NOT use PyTorch DataLoaders. Instead, we fabricate the batched tensors by hand and ensure that the data is accessed correctly by the training loop.\n",
    "\n",
    "We create a class that inherits from torch's `Dataset` class to create our own dataset object. It must include the three given methods."
   ]
  },
  {
   "cell_type": "code",
   "execution_count": 1,
   "metadata": {},
   "outputs": [],
   "source": [
    "import os\n",
    "import pandas as pd\n",
    "from torch.utils.data import Dataset, DataLoader\n",
    "import torch\n"
   ]
  },
  {
   "cell_type": "code",
   "execution_count": 3,
   "metadata": {},
   "outputs": [],
   "source": [
    "def GS_from_CM_Dataset(path_to_data, transform=None):\n",
    "    if os.path.exists(path_to_data):\n",
    "        data = pd.read_csv(path_to_data)\n",
    "    else:\n",
    "        raise FileExistsError('No dataset found')\n",
    "    data = data.sample(frac=1)\n",
    "    X = data.drop(columns=['id', 'pubchem_id', 'Eat'])\n",
    "    y = data['Eat']\n",
    "    \n",
    "    return torch.tensor(X.to_numpy()).to(torch.float), torch.tensor(y.to_numpy()).to(torch.float)"
   ]
  },
  {
   "cell_type": "code",
   "execution_count": 4,
   "metadata": {},
   "outputs": [
    {
     "name": "stdout",
     "output_type": "stream",
     "text": [
      "torch.Size([13805, 1275]) torch.Size([107, 128, 1275])\n",
      "torch.Size([13805]) torch.Size([107, 128])\n",
      "torch.Size([2437, 1275]) torch.Size([19, 128, 1275])\n",
      "torch.Size([2437]) torch.Size([19, 128])\n"
     ]
    }
   ],
   "source": [
    "dataset = GS_from_CM_Dataset(path_to_data='data/GS_from_CM/GS_from_CM_data.csv')\n",
    "N_all = len(dataset[0])\n",
    "subset = 0.9\n",
    "\n",
    "X_train, y_train, X_test, y_test = \\\n",
    "    dataset[0][:int(N_all*subset)], dataset[1][:int(N_all*subset)], dataset[0][int(N_all*subset):], dataset[1][int(N_all*subset):]\n",
    "N_train = X_train[0].shape[0]\n",
    "# print(datatrain[0].shape[0] + datatest[1].shape[0], dataset[0].shape[0])\n",
    "# print(datatrain[0].shape, datatrain[1].shape, datatest[0].shape, datatest[1].shape)\n",
    "\n",
    "\n",
    "def tensorBatch(tensor, batch_size):\n",
    "    \"\"\"I think this only works for one and two dimensional tensors\n",
    "    Returns the batched tensor\n",
    "    \"\"\"\n",
    "    N_batch = tensor.shape[0] // batch_size\n",
    "    N_elems = N_batch * batch_size\n",
    "    \n",
    "    return tensor[:N_elems].reshape(N_batch, batch_size, -1).squeeze(), N_batch\n",
    "\n",
    "batch_size = 128\n",
    "\n",
    "# Check that it works. I think it does.\n",
    "print(X_train.shape, tensorBatch(X_train, batch_size)[0].shape)\n",
    "print(y_train.shape, tensorBatch(y_train, batch_size)[0].shape)\n",
    "print(X_test.shape, tensorBatch(X_test, batch_size)[0].shape)\n",
    "print(y_test.shape, tensorBatch(y_test, batch_size)[0].shape)\n",
    "\n",
    "X_train, N_batch = tensorBatch(X_train, batch_size)\n",
    "y_train, _ = tensorBatch(y_train, batch_size)\n",
    "# X_test, y_test = [tensorBatch(tens, batch_size) for tens in test_data]\n",
    "\n",
    "train_data = (X_train, y_train)\n",
    "test_data = (X_test, y_test)\n",
    "\n",
    "input_len = X_train.shape[-1]"
   ]
  },
  {
   "cell_type": "markdown",
   "metadata": {},
   "source": [
    "Now we can start to build our NN."
   ]
  },
  {
   "cell_type": "code",
   "execution_count": 7,
   "metadata": {},
   "outputs": [
    {
     "name": "stdout",
     "output_type": "stream",
     "text": [
      "torch.Size([])\n"
     ]
    }
   ],
   "source": [
    "from torch import nn\n",
    "\n",
    "class SimpleNN(nn.Module):\n",
    "    \n",
    "    def __init__(self):\n",
    "        super(SimpleNN, self).__init__()\n",
    "        # The input is a 1275 vector\n",
    "        self.linear_relu_block = nn.Sequential(\n",
    "            nn.Linear(input_len, 16, bias=False),\n",
    "            nn.ReLU(),\n",
    "            nn.Linear(16, 8),\n",
    "            nn.ReLU(),\n",
    "            nn.Linear(8, 1)\n",
    "            )\n",
    "    \n",
    "    def forward(self, x):\n",
    "        logits = self.linear_relu_block(x)\n",
    "        return logits.squeeze()\n",
    "    \n",
    "    \n",
    "model = SimpleNN()\n",
    "model.eval()  # Congelas gradients\n",
    "\n",
    "# Check if it works\n",
    "random_result = model(torch.rand(input_len))\n",
    "print(random_result.shape)\n",
    "# print(model(next(iter(train_dataloader))[0]).shape)"
   ]
  },
  {
   "cell_type": "markdown",
   "metadata": {},
   "source": [
    "Now we can train the model. We use the SGD method, since I don't know how the rest work (TODO: Learn the others)."
   ]
  },
  {
   "cell_type": "code",
   "execution_count": 8,
   "metadata": {},
   "outputs": [],
   "source": [
    "# import time\n",
    "learning_rate = 1e-3\n",
    "epochs = 20\n",
    "\n",
    "SGD_opt = torch.optim.SGD(model.parameters(), lr=learning_rate)\n",
    "MSE_fn = nn.MSELoss()\n",
    "\n",
    "def train_epoch(train_data, model, optimizer, loss_fn):\n",
    "    # for batch, (X, y) in enumerate(train_data):\n",
    "    for batch in range(N_batch):\n",
    "        X, y = train_data[0][batch], train_data[1][batch]\n",
    "        # print(X.shape)\n",
    "        # print(y.shape)\n",
    "        # Prediction and loss\n",
    "        # start = time.perf_counter()\n",
    "        model.train()\n",
    "        y_pred = model(X)\n",
    "        loss = loss_fn(y_pred, y.squeeze())\n",
    "        \n",
    "        # Calculate gradient and modify parameters\n",
    "        optimizer.zero_grad()\n",
    "        loss.backward()\n",
    "        optimizer.step()\n",
    "        # end = time.perf_counter()\n",
    "        # timer = end-start\n",
    "        # print(timer)\n",
    "        \n",
    "        if batch % (len(train_data[0]) // 10) == 0:\n",
    "            print(f'Current {(batch + 1) * batch_size:6d} / {N_batch * batch_size:6d}. Train MSE = {loss:4.4f}', end='\\r')\n",
    "    return loss.item()\n",
    "\n",
    "def test_epoch(test_data, model, loss_fn):\n",
    "    # N = len(test_data.dataset)\n",
    "    N = len(test_data[0])\n",
    "    \n",
    "    X, y = test_data\n",
    "    \n",
    "    N_batch = N // len(test_data[0])\n",
    "    Mse = 0\n",
    "    # with torch.no_grad():\n",
    "    model.eval()\n",
    "    # for X, y in test_data:\n",
    "    y_pred = model(X)\n",
    "    Mse += loss_fn(y_pred, y.squeeze()).item()\n",
    "    print(f'\\nTest MSE {Mse / N_batch:4.4f}')\n",
    "    return Mse / N_batch\n",
    "\n",
    "def train_loop(train_data, test_data, model, optimizer, loss_fn, epochs=1):\n",
    "    train_mse = []\n",
    "    test_mse = []\n",
    "    for epoch in range(epochs):\n",
    "        print(f'\\nEpoch {epoch + 1}/{epochs}')\n",
    "        print('-'*50)\n",
    "        \n",
    "        tr_mse = train_epoch(train_data, model, optimizer, loss_fn)\n",
    "        te_mse = test_epoch(test_data, model, loss_fn)\n",
    "        \n",
    "        train_mse.append(tr_mse)\n",
    "        test_mse.append(te_mse)\n",
    "    return train_mse, test_mse"
   ]
  },
  {
   "cell_type": "markdown",
   "metadata": {},
   "source": [
    "We have defined the model and its training loop. Let's put it to use"
   ]
  },
  {
   "cell_type": "code",
   "execution_count": 9,
   "metadata": {},
   "outputs": [
    {
     "name": "stdout",
     "output_type": "stream",
     "text": [
      "Epoch 1/20\n",
      "--------------------------------------------------\n",
      "Current  12800 /  13696. Train MSE = 83.66986\n",
      "Test MSE 86.6696\n",
      "Epoch 2/20\n",
      "--------------------------------------------------\n",
      "Current  12800 /  13696. Train MSE = 23.1187\n",
      "Test MSE 24.0933\n",
      "Epoch 3/20\n",
      "--------------------------------------------------\n",
      "Current  12800 /  13696. Train MSE = 10.8242\n",
      "Test MSE 13.6289\n",
      "Epoch 4/20\n",
      "--------------------------------------------------\n",
      "Current  12800 /  13696. Train MSE = 10.8748\n",
      "Test MSE 13.6197\n",
      "Epoch 5/20\n",
      "--------------------------------------------------\n",
      "Current  12800 /  13696. Train MSE = 10.8784\n",
      "Test MSE 13.6205\n",
      "Epoch 6/20\n",
      "--------------------------------------------------\n",
      "Current  12800 /  13696. Train MSE = 10.8785\n",
      "Test MSE 13.6205\n",
      "Epoch 7/20\n",
      "--------------------------------------------------\n",
      "Current  12800 /  13696. Train MSE = 10.8785\n",
      "Test MSE 13.6205\n",
      "Epoch 8/20\n",
      "--------------------------------------------------\n",
      "Current  12800 /  13696. Train MSE = 10.8785\n",
      "Test MSE 13.6205\n",
      "Epoch 9/20\n",
      "--------------------------------------------------\n",
      "Current  12800 /  13696. Train MSE = 10.8785\n",
      "Test MSE 13.6205\n",
      "Epoch 10/20\n",
      "--------------------------------------------------\n",
      "Current  12800 /  13696. Train MSE = 10.8785\n",
      "Test MSE 13.6205\n",
      "Epoch 11/20\n",
      "--------------------------------------------------\n",
      "Current  12800 /  13696. Train MSE = 10.8785\n",
      "Test MSE 13.6205\n",
      "Epoch 12/20\n",
      "--------------------------------------------------\n",
      "Current  12800 /  13696. Train MSE = 10.8785\n",
      "Test MSE 13.6205\n",
      "Epoch 13/20\n",
      "--------------------------------------------------\n",
      "Current  12800 /  13696. Train MSE = 10.8785\n",
      "Test MSE 13.6205\n",
      "Epoch 14/20\n",
      "--------------------------------------------------\n",
      "Current  12800 /  13696. Train MSE = 10.8785\n",
      "Test MSE 13.6205\n",
      "Epoch 15/20\n",
      "--------------------------------------------------\n",
      "Current  12800 /  13696. Train MSE = 10.8785\n",
      "Test MSE 13.6205\n",
      "Epoch 16/20\n",
      "--------------------------------------------------\n",
      "Current  12800 /  13696. Train MSE = 10.8785\n",
      "Test MSE 13.6205\n",
      "Epoch 17/20\n",
      "--------------------------------------------------\n",
      "Current  12800 /  13696. Train MSE = 10.8785\n",
      "Test MSE 13.6205\n",
      "Epoch 18/20\n",
      "--------------------------------------------------\n",
      "Current  12800 /  13696. Train MSE = 10.8785\n",
      "Test MSE 13.6205\n",
      "Epoch 19/20\n",
      "--------------------------------------------------\n",
      "Current  12800 /  13696. Train MSE = 10.8785\n",
      "Test MSE 13.6205\n",
      "Epoch 20/20\n",
      "--------------------------------------------------\n",
      "Current  12800 /  13696. Train MSE = 10.8785\n",
      "Test MSE 13.6205\n",
      "Run time for 20 epochs was 1.584863 seconds.\n"
     ]
    }
   ],
   "source": [
    "# train_mse, test_mse = train_loop(train_dataloader, test_dataloader, model, SGD_opt, MSE_fn, epochs=epochs)\n",
    "from time import perf_counter\n",
    "\n",
    "start = perf_counter()\n",
    "train_mse, test_mse = train_loop(train_data, test_data, model, SGD_opt, MSE_fn, epochs=epochs)\n",
    "end = perf_counter()\n",
    "\n",
    "print(f'Run time for {epochs} epochs was {end - start:>8f} seconds.')"
   ]
  },
  {
   "cell_type": "markdown",
   "metadata": {},
   "source": [
    "The model is veeeery slow during training and I don't know why."
   ]
  },
  {
   "cell_type": "code",
   "execution_count": 10,
   "metadata": {},
   "outputs": [
    {
     "name": "stdout",
     "output_type": "stream",
     "text": [
      "[93.07534790039062, 27.970561981201172, 15.571671485900879, 15.471776008605957, 15.469503402709961, 15.469427108764648, 15.469425201416016, 15.469425201416016, 15.469425201416016, 15.469425201416016, 15.469425201416016, 15.469425201416016, 15.469425201416016, 15.469425201416016, 15.469425201416016, 15.469425201416016, 15.469425201416016, 15.469425201416016, 15.469425201416016, 15.469425201416016]\n",
      "[86.66963195800781, 24.093292236328125, 13.628917694091797, 13.619668960571289, 13.620505332946777, 13.620537757873535, 13.620537757873535, 13.620537757873535, 13.620537757873535, 13.620537757873535, 13.620535850524902, 13.620537757873535, 13.620537757873535, 13.620535850524902, 13.620535850524902, 13.620537757873535, 13.620537757873535, 13.620537757873535, 13.620537757873535, 13.620535850524902]\n"
     ]
    }
   ],
   "source": [
    "print(train_mse)\n",
    "print(test_mse)"
   ]
  },
  {
   "cell_type": "code",
   "execution_count": 14,
   "metadata": {},
   "outputs": [
    {
     "data": {
      "image/png": "[encoded data removed]",
      "text/plain": [
       "<Figure size 432x288 with 1 Axes>"
      ]
     },
     "metadata": {
      "needs_background": "light"
     },
     "output_type": "display_data"
    }
   ],
   "source": [
    "import matplotlib.pyplot as plt\n",
    "\n",
    "plt.plot(train_mse, label='train')\n",
    "plt.plot(test_mse, label='test')\n",
    "plt.legend()\n",
    "plt.yscale('log')\n",
    "plt.xlabel('epoch')\n",
    "plt.ylabel('MSE')\n",
    "\n",
    "plt.show()"
   ]
  }
 ],
 "metadata": {
  "interpreter": {
   "hash": "916dbcbb3f70747c44a77c7bcd40155683ae19c65e1c03b4aa3499c5328201f1"
  },
  "kernelspec": {
   "display_name": "Python 3.10.4 64-bit",
   "language": "python",
   "name": "python3"
  },
  "language_info": {
   "codemirror_mode": {
    "name": "ipython",
    "version": 3
   },
   "file_extension": ".py",
   "mimetype": "text/x-python",
   "name": "python",
   "nbconvert_exporter": "python",
   "pygments_lexer": "ipython3",
   "version": "3.10.4"
  },
  "orig_nbformat": 4,
  "vscode": {
   "interpreter": {
    "hash": "916dbcbb3f70747c44a77c7bcd40155683ae19c65e1c03b4aa3499c5328201f1"
   }
  }
 },
 "nbformat": 4,
 "nbformat_minor": 2
}
