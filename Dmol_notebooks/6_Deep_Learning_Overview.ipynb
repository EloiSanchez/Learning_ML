{
 "cells": [
  {
   "cell_type": "markdown",
   "metadata": {},
   "source": [
    "# Deep Learning Overview\n",
    "\n",
    "Deep learning is a category of machine learning. Machine learning is a category of artificial intelligence. Deep learning is the use of neural networks to do machine learning, like classify and regress data. This chapter provides an overview and we will dive further into these topics in later chapters.\n",
    "\n",
    "The main advice I would give to beginners in deep learning are to focus less on the neurological inspired language (i.e., connections between neurons), and instead view deep learning as a series of linear algebra operations where many of the matrices are filled with adjustable parameters. Of course nonlinear functions (activations) are used to join the linear algebra operations, but deep learning is essentially linear algebra operations specified via a “computation network” (aka computation graph) that vaguely looks like neurons connected in a brain.\n"
   ]
  },
  {
   "cell_type": "markdown",
   "metadata": {},
   "source": [
    "## 1. What is a neural network?\n",
    "\n",
    "The deep in deep learning means we have many layers in our neural networks. What is a neural network? Without loss of generality, we can view neural networks as 2 components: (1) a nonlinear function $g(\\cdot)$ which operates on our input features and outputs a new set of features $\\mathbf{H}=g(\\mathbf{X})$ and (2) a linear model like we saw in our Introduction to Machine Learning. Our model equation for deep learning regression is:\n",
    "$$\n",
    "\\hat{y} = \\vec{w}g(\\vec{x}) + b\n",
    "$$\n",
    "\n",
    "In this case we do not choose features. We have replaced them with a set of trainable features $g(\\vec{x})$ and then we use the same linear model as before. The problem es how to choose $g(\\vec{x})$. It has to be **differentiable** and be composed of **layers**. Each layer must be also differentiable functions with **trainable weights** (free parameters). There are different types of layers, the most common ones are **dense** or **fully-connected** layers.\n",
    "\n",
    "A dense layer is defined by two things: the desired **output feature shape** and the **activation**. The equation is:\n",
    "$$\n",
    "\\vec{h} = \\sigma(\\mathbf{W}\\vec{x}+\\vec{b})\n",
    "$$\n",
    "where $\\mathbf{W}$ is a trainable $F\\times D$ matrix, where $D$ is the dimension of the input vector $\\vec{x}$ and $F$ is the is the output vector dimension, $\\vec{b}$ is a trainable $F$ dimensional vector, and $\\sigma(\\cdot)$ is the activation function. The number of features $F$ is *not* trainable, it is an **hyperparameter** that is problem dependent. The activation function must me non-linear, otherwise, subsequent applications of linear functions would result in a big matrix transformation that would essentially be a standar linear regression.\n",
    "\n",
    "The most simple activation function is the **rectified linear unit (ReLU)**:\n",
    "$$\n",
    "\\sigma(x) = \\begin{cases}\n",
    "                x, & \\text{if} \\quad x>0\\\\\n",
    "                0, & \\text{otherwise}\n",
    "            \\end{cases}\n",
    "$$\n",
    "\n",
    "\n",
    "### 1.1. Unviersal Approximation Theorem\n",
    "\n",
    "Neural Networks can approximate any function given enough depth and width.\n",
    "\n",
    "### 1.2. Frameworks\n",
    "\n",
    "From now on we will be using Keras.\n",
    "\n"
   ]
  },
  {
   "cell_type": "markdown",
   "metadata": {},
   "source": [
    "## 2. Data and modules\n",
    "\n",
    "We will go back to the solubility example"
   ]
  },
  {
   "cell_type": "code",
   "execution_count": 1,
   "metadata": {},
   "outputs": [
    {
     "name": "stderr",
     "output_type": "stream",
     "text": [
      "2022-07-06 11:29:14.018338: W tensorflow/stream_executor/platform/default/dso_loader.cc:64] Could not load dynamic library 'libcudart.so.11.0'; dlerror: libcudart.so.11.0: cannot open shared object file: No such file or directory\n",
      "2022-07-06 11:29:14.018355: I tensorflow/stream_executor/cuda/cudart_stub.cc:29] Ignore above cudart dlerror if you do not have a GPU set up on your machine.\n"
     ]
    }
   ],
   "source": [
    "import pandas as pd\n",
    "import matplotlib.pyplot as plt\n",
    "import tensorflow as tf\n",
    "import numpy as np\n",
    "# import dmol"
   ]
  },
  {
   "cell_type": "code",
   "execution_count": 2,
   "metadata": {},
   "outputs": [],
   "source": [
    "# soldata = pd.read_csv('https://dataverse.harvard.edu/api/access/datafile/3407241?format=original&gbrecs=true')\n",
    "# had to rehost because dataverse isn't reliable\n",
    "soldata = pd.read_csv(\n",
    "    \"https://github.com/whitead/dmol-book/raw/master/data/curated-solubility-dataset.csv\"\n",
    ")\n",
    "features_start_at = list(soldata.columns).index(\"MolWt\")\n",
    "feature_names = soldata.columns[features_start_at:]\n",
    "# standardize the features\n",
    "soldata[feature_names] -= soldata[feature_names].mean()\n",
    "soldata[feature_names] /= soldata[feature_names].std()"
   ]
  },
  {
   "cell_type": "markdown",
   "metadata": {},
   "source": [
    "### 2.1. Preparing data for KERAS"
   ]
  },
  {
   "cell_type": "code",
   "execution_count": 8,
   "metadata": {},
   "outputs": [
    {
     "name": "stderr",
     "output_type": "stream",
     "text": [
      "2022-07-06 11:31:07.351150: I tensorflow/stream_executor/cuda/cuda_gpu_executor.cc:975] successful NUMA node read from SysFS had negative value (-1), but there must be at least one NUMA node, so returning NUMA node zero\n",
      "2022-07-06 11:31:07.351622: W tensorflow/stream_executor/platform/default/dso_loader.cc:64] Could not load dynamic library 'libcudart.so.11.0'; dlerror: libcudart.so.11.0: cannot open shared object file: No such file or directory\n",
      "2022-07-06 11:31:07.351705: W tensorflow/stream_executor/platform/default/dso_loader.cc:64] Could not load dynamic library 'libcublas.so.11'; dlerror: libcublas.so.11: cannot open shared object file: No such file or directory\n",
      "2022-07-06 11:31:07.351759: W tensorflow/stream_executor/platform/default/dso_loader.cc:64] Could not load dynamic library 'libcublasLt.so.11'; dlerror: libcublasLt.so.11: cannot open shared object file: No such file or directory\n",
      "2022-07-06 11:31:07.351808: W tensorflow/stream_executor/platform/default/dso_loader.cc:64] Could not load dynamic library 'libcufft.so.10'; dlerror: libcufft.so.10: cannot open shared object file: No such file or directory\n",
      "2022-07-06 11:31:07.351856: W tensorflow/stream_executor/platform/default/dso_loader.cc:64] Could not load dynamic library 'libcurand.so.10'; dlerror: libcurand.so.10: cannot open shared object file: No such file or directory\n",
      "2022-07-06 11:31:07.351902: W tensorflow/stream_executor/platform/default/dso_loader.cc:64] Could not load dynamic library 'libcusolver.so.11'; dlerror: libcusolver.so.11: cannot open shared object file: No such file or directory\n",
      "2022-07-06 11:31:07.351948: W tensorflow/stream_executor/platform/default/dso_loader.cc:64] Could not load dynamic library 'libcusparse.so.11'; dlerror: libcusparse.so.11: cannot open shared object file: No such file or directory\n",
      "2022-07-06 11:31:07.351994: W tensorflow/stream_executor/platform/default/dso_loader.cc:64] Could not load dynamic library 'libcudnn.so.8'; dlerror: libcudnn.so.8: cannot open shared object file: No such file or directory\n",
      "2022-07-06 11:31:07.352001: W tensorflow/core/common_runtime/gpu/gpu_device.cc:1850] Cannot dlopen some GPU libraries. Please make sure the missing libraries mentioned above are installed properly if you would like to use GPU. Follow the guide at https://www.tensorflow.org/install/gpu for how to download and setup the required libraries for your platform.\n",
      "Skipping registering GPU devices...\n",
      "2022-07-06 11:31:07.353519: I tensorflow/core/platform/cpu_feature_guard.cc:193] This TensorFlow binary is optimized with oneAPI Deep Neural Network Library (oneDNN) to use the following CPU instructions in performance-critical operations:  AVX2 FMA\n",
      "To enable them in other operations, rebuild TensorFlow with the appropriate compiler flags.\n"
     ]
    }
   ],
   "source": [
    "full_data = tf.data.Dataset.from_tensor_slices(\n",
    "    (soldata[feature_names].values, soldata[\"Solubility\"].values)\n",
    ")\n",
    "N = len(soldata)\n",
    "test_N = int(0.1 * N)\n",
    "test_data = full_data.take(test_N).batch(16)\n",
    "train_data = full_data.skip(test_N).batch(16)"
   ]
  },
  {
   "cell_type": "markdown",
   "metadata": {},
   "source": [
    "## 3. Building the Neural Network\n",
    "\n",
    "Now we build our neural network model. In this case, our $g(\\vec{x})=\\sigma(\\mathbf{W}\\vec{x}+\\vec{b}$. We will call this function\n",
    "a hidden layer. This is because we do not observe its output. Remember, the solubility will be $\\hat{y}=\\vec{w}g(\\vec{x})+b$. We choos the activation $\\tanh{(\\cdot)}$"
   ]
  },
  {
   "cell_type": "code",
   "execution_count": 9,
   "metadata": {},
   "outputs": [
    {
     "data": {
      "text/plain": [
       "<tf.Tensor: shape=(3, 1), dtype=float32, numpy=\n",
       "array([[-0.20428604],\n",
       "       [ 0.06481122],\n",
       "       [-0.06915915]], dtype=float32)>"
      ]
     },
     "execution_count": 9,
     "metadata": {},
     "output_type": "execute_result"
    }
   ],
   "source": [
    "# our hidden layer\n",
    "# We only need to define the output dimension - 32.\n",
    "hidden_layer = tf.keras.layers.Dense(32, activation=\"tanh\")\n",
    "# Last layer - which we want to output one number\n",
    "# the predicted solubility.\n",
    "output_layer = tf.keras.layers.Dense(1)\n",
    "\n",
    "# Now we put the layers into a sequential model\n",
    "model = tf.keras.Sequential()\n",
    "model.add(hidden_layer)\n",
    "model.add(output_layer)\n",
    "\n",
    "# our model is complete\n",
    "\n",
    "# Try out our model on first few datapoints\n",
    "model(soldata[feature_names].values[:3])"
   ]
  },
  {
   "cell_type": "markdown",
   "metadata": {},
   "source": [
    "We can see our model predicting the solubility for 3 molecules above.\n",
    "\n",
    "At this point, we’ve defined how our model structure should work and it can be called on data. Now we need to train it! We prepare the model for training by calling model.compile, which is where we define our optimization (typically a flavor of stochastic gradient descent) and loss"
   ]
  },
  {
   "cell_type": "code",
   "execution_count": 10,
   "metadata": {},
   "outputs": [],
   "source": [
    "model.compile(optimizer=\"SGD\", loss=\"mean_squared_error\")"
   ]
  },
  {
   "cell_type": "markdown",
   "metadata": {},
   "source": [
    "Look back to the amount of work it took to previously set-up loss and optimization process! Now we can train our model"
   ]
  },
  {
   "cell_type": "code",
   "execution_count": 11,
   "metadata": {},
   "outputs": [
    {
     "name": "stdout",
     "output_type": "stream",
     "text": [
      "Epoch 1/50\n",
      "562/562 [==============================] - 1s 857us/step - loss: 2.1207\n",
      "Epoch 2/50\n",
      "562/562 [==============================] - 0s 866us/step - loss: 1.6504\n",
      "Epoch 3/50\n",
      "562/562 [==============================] - 1s 937us/step - loss: 1.5700\n",
      "Epoch 4/50\n",
      "562/562 [==============================] - 1s 894us/step - loss: 1.5231\n",
      "Epoch 5/50\n",
      "562/562 [==============================] - 0s 861us/step - loss: 1.4851\n",
      "Epoch 6/50\n",
      "562/562 [==============================] - 0s 822us/step - loss: 1.4494\n",
      "Epoch 7/50\n",
      "562/562 [==============================] - 0s 857us/step - loss: 1.4151\n",
      "Epoch 8/50\n",
      "562/562 [==============================] - 1s 887us/step - loss: 1.3872\n",
      "Epoch 9/50\n",
      "562/562 [==============================] - 0s 836us/step - loss: 1.3633\n",
      "Epoch 10/50\n",
      "562/562 [==============================] - 1s 891us/step - loss: 1.3475\n",
      "Epoch 11/50\n",
      "562/562 [==============================] - 0s 884us/step - loss: 1.3362\n",
      "Epoch 12/50\n",
      "562/562 [==============================] - 0s 866us/step - loss: 1.3270\n",
      "Epoch 13/50\n",
      "562/562 [==============================] - 1s 997us/step - loss: 1.3185\n",
      "Epoch 14/50\n",
      "562/562 [==============================] - 0s 880us/step - loss: 1.3115\n",
      "Epoch 15/50\n",
      "562/562 [==============================] - 1s 917us/step - loss: 1.3057\n",
      "Epoch 16/50\n",
      "562/562 [==============================] - 1s 908us/step - loss: 1.3011\n",
      "Epoch 17/50\n",
      "562/562 [==============================] - 0s 867us/step - loss: 1.2975\n",
      "Epoch 18/50\n",
      "562/562 [==============================] - 0s 876us/step - loss: 1.2945\n",
      "Epoch 19/50\n",
      "562/562 [==============================] - 1s 891us/step - loss: 1.2917\n",
      "Epoch 20/50\n",
      "562/562 [==============================] - 0s 869us/step - loss: 1.2891\n",
      "Epoch 21/50\n",
      "562/562 [==============================] - 1s 898us/step - loss: 1.2868\n",
      "Epoch 22/50\n",
      "562/562 [==============================] - 0s 886us/step - loss: 1.2846\n",
      "Epoch 23/50\n",
      "562/562 [==============================] - 0s 869us/step - loss: 1.2824\n",
      "Epoch 24/50\n",
      "562/562 [==============================] - 1s 946us/step - loss: 1.2801\n",
      "Epoch 25/50\n",
      "562/562 [==============================] - 0s 877us/step - loss: 1.2777\n",
      "Epoch 26/50\n",
      "562/562 [==============================] - 1s 900us/step - loss: 1.2753\n",
      "Epoch 27/50\n",
      "562/562 [==============================] - 1s 893us/step - loss: 1.2729\n",
      "Epoch 28/50\n",
      "562/562 [==============================] - 1s 911us/step - loss: 1.2708\n",
      "Epoch 29/50\n",
      "562/562 [==============================] - 1s 914us/step - loss: 1.2688\n",
      "Epoch 30/50\n",
      "562/562 [==============================] - 1s 916us/step - loss: 1.2667\n",
      "Epoch 31/50\n",
      "562/562 [==============================] - 1s 902us/step - loss: 1.2643\n",
      "Epoch 32/50\n",
      "562/562 [==============================] - 1s 892us/step - loss: 1.2620\n",
      "Epoch 33/50\n",
      "562/562 [==============================] - 0s 873us/step - loss: 1.2594\n",
      "Epoch 34/50\n",
      "562/562 [==============================] - 0s 880us/step - loss: 1.2567\n",
      "Epoch 35/50\n",
      "562/562 [==============================] - 1s 946us/step - loss: 1.2538\n",
      "Epoch 36/50\n",
      "562/562 [==============================] - 0s 859us/step - loss: 1.2507\n",
      "Epoch 37/50\n",
      "562/562 [==============================] - 0s 852us/step - loss: 1.2470\n",
      "Epoch 38/50\n",
      "562/562 [==============================] - 0s 849us/step - loss: 1.2440\n",
      "Epoch 39/50\n",
      "562/562 [==============================] - 0s 855us/step - loss: 1.2409\n",
      "Epoch 40/50\n",
      "562/562 [==============================] - 0s 842us/step - loss: 1.2378\n",
      "Epoch 41/50\n",
      "562/562 [==============================] - 0s 879us/step - loss: 1.2346\n",
      "Epoch 42/50\n",
      "562/562 [==============================] - 0s 865us/step - loss: 1.2313\n",
      "Epoch 43/50\n",
      "562/562 [==============================] - 1s 912us/step - loss: 1.2280\n",
      "Epoch 44/50\n",
      "562/562 [==============================] - 1s 896us/step - loss: 1.2249\n",
      "Epoch 45/50\n",
      "562/562 [==============================] - 0s 862us/step - loss: 1.2220\n",
      "Epoch 46/50\n",
      "562/562 [==============================] - 1s 890us/step - loss: 1.2192\n",
      "Epoch 47/50\n",
      "562/562 [==============================] - 1s 894us/step - loss: 1.2167\n",
      "Epoch 48/50\n",
      "562/562 [==============================] - 1s 894us/step - loss: 1.2142\n",
      "Epoch 49/50\n",
      "562/562 [==============================] - 0s 882us/step - loss: 1.2119\n",
      "Epoch 50/50\n",
      "562/562 [==============================] - 0s 871us/step - loss: 1.2097\n"
     ]
    },
    {
     "data": {
      "text/plain": [
       "<keras.callbacks.History at 0x7f9b4860ee60>"
      ]
     },
     "execution_count": 11,
     "metadata": {},
     "output_type": "execute_result"
    }
   ],
   "source": [
    "model.fit(train_data, epochs=50)"
   ]
  },
  {
   "cell_type": "markdown",
   "metadata": {},
   "source": [
    "For reference, we got a loss about as low as 3 in our previous work. It was also much faster, thanks to the optimizations. Now let’s see how our model did on the test data"
   ]
  },
  {
   "cell_type": "code",
   "execution_count": 21,
   "metadata": {},
   "outputs": [
    {
     "name": "stdout",
     "output_type": "stream",
     "text": [
      "63/63 [==============================] - 0s 1ms/step\n"
     ]
    }
   ],
   "source": [
    "# get model predictions on test data and get labels\n",
    "# squeeze to remove extra dimensions\n",
    "yhat = np.squeeze(model.predict(test_data))\n",
    "test_y = soldata[\"Solubility\"].values[:test_N]"
   ]
  },
  {
   "cell_type": "code",
   "execution_count": 22,
   "metadata": {},
   "outputs": [
    {
     "data": {
      "image/png": "[encoded data removed]",
      "text/plain": [
       "<Figure size 432x288 with 1 Axes>"
      ]
     },
     "metadata": {
      "needs_background": "light"
     },
     "output_type": "display_data"
    }
   ],
   "source": [
    "plt.plot(test_y, yhat, \".\")\n",
    "plt.plot(test_y, test_y, \"-\")\n",
    "plt.xlabel(\"Measured Solubility $y$\")\n",
    "plt.ylabel(\"Predicted Solubility $\\hat{y}$\")\n",
    "plt.text(\n",
    "    min(test_y) + 1,\n",
    "    max(test_y) - 2,\n",
    "    f\"correlation = {np.corrcoef(test_y, yhat)[0,1]:.3f}\",\n",
    ")\n",
    "plt.text(\n",
    "    min(test_y) + 1,\n",
    "    max(test_y) - 3,\n",
    "    f\"loss = {np.sqrt(np.mean((test_y - yhat)**2)):.3f}\",\n",
    ")\n",
    "plt.show()"
   ]
  },
  {
   "cell_type": "markdown",
   "metadata": {},
   "source": [
    "This performance is better than our simple linear model."
   ]
  }
 ],
 "metadata": {
  "interpreter": {
   "hash": "916dbcbb3f70747c44a77c7bcd40155683ae19c65e1c03b4aa3499c5328201f1"
  },
  "kernelspec": {
   "display_name": "Python 3.10.4 64-bit",
   "language": "python",
   "name": "python3"
  },
  "language_info": {
   "codemirror_mode": {
    "name": "ipython",
    "version": 3
   },
   "file_extension": ".py",
   "mimetype": "text/x-python",
   "name": "python",
   "nbconvert_exporter": "python",
   "pygments_lexer": "ipython3",
   "version": "3.10.4"
  },
  "orig_nbformat": 4
 },
 "nbformat": 4,
 "nbformat_minor": 2
}
