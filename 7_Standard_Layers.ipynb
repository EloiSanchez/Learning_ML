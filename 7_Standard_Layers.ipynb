{
 "cells": [
  {
   "cell_type": "markdown",
   "metadata": {},
   "source": [
    "# Standard Layers\n",
    "\n",
    "We will now see some examples of typical layers in DL.\n",
    "\n",
    "Usually, layers have a batch axis, although frameworks and usually math take them implicitly.\n",
    "\n",
    "A [typical neural network](https://dmol.pub/_images/nn.svg) that takes 128x128 images with 3 channels (RGB) and outputs a vector of 128 probabilities that codify the object seen by the NN (cat, vase, crane...)."
   ]
  },
  {
   "cell_type": "markdown",
   "metadata": {},
   "source": [
    "## 1. Hyperparameters\n",
    "\n",
    "We saw from the Full connected (FC)/Dense layer that we have to choose if we use bias, the activation, and the output shape. As we learn about more complex layers, there will be more choices. These choices begin to accumulate and in a neural network you may have billions of possible combinations of them. These choices about shape, activation, initialization, and other layer arguments are called hyperparameters. They are parameters in the sense that they can be tuned, but they are not trained on our data so we call them hyperparameters to distinguish them from the “regular” parameters like value of weights and biases in the layers. The name is inherited from Bayesian statistics.\n",
    "\n",
    "### 1.1. Validation\n",
    "\n",
    "The number of hyperparameters is high enough that overfitting can actually occur by choosing hyperparameters that minimize error on the test set. This is surprising because we don’t explicitly train hyperparameters. Nevertheless, you will find in your own work that if you use the test data extensively in hyperparameter tuning and for assessing overfitting of the regular training parameters, your performance will be overfit to the testing data. To combat this, we split our data three ways in deep learning:\n",
    "\n",
    "1. Training data: used for trainable parameters.\n",
    "2. Validation data: used to choose hyperparameters or measure overfitting of training data\n",
    "3. Test data: data not used for anything except final reported error\n",
    "\n",
    "To clean-up our nomenclature here, we use the word generalization error to refer to performance on a hypothetical infinite stream of unseen data. So regardless of if you split three-ways or use other approaches, generalization error means error on unseen data."
   ]
  },
  {
   "cell_type": "markdown",
   "metadata": {},
   "source": [
    "## 2. Common Layers\n",
    "\n",
    "### 2.1. Convolutions\n",
    "\n",
    "Convolutions are a layer typically used in image processing. Each convolutin layer has a grid $(H,W)$ that takes $H\\times W$ pixels from the image and a set of filters $F$ that are trained to produce an output. Adding as well the channels we see that the layer has shape $(C, H, W, F)$.\n",
    "\n",
    "Convolution Layers are **equivariant**, meaning that if the input (cat) is displaced in the image, the output is displaced as well. Another type of property is **invariance**, where the position of the input is irrelevant to the output.\n",
    "\n",
    "Another important term is **padding**. If you want a grid of, say (32,32), but your input is (30,30), you can add 2 extra pixels to the sides and top and bottom parts, fill them with 0s, and obtain an image of (32,32).\n",
    "\n",
    "### 2.2. Pooling\n",
    "\n",
    "Convolutions are commonly paired with pooling layers because pooling also is translationally equivariant. If your goal is to produce a single number (regression) or class (classification) from an input image or sequence, you need to reduce the rank to 0, a scalar. After a convolution, you could use a reduction like average or maximum. It has been shown empirically that reducing the number of elements of your features more gradually is better. One way is through pooling. Pooling is similar to convolutions, in that you define a kernel shape (called window shape), but pooling has no trainable parameters. Instead, you run a window across your input grid and compute a reduction. Commonly an average or maximum is computed. For example, you might use three rounds of convolutions and pooling to take an image from $32\\times 32$ down to a $4\\times 4$. Read more about [pooling here](https://d2l.ai/chapter_convolutional-neural-networks/pooling.html).\n",
    "\n",
    "### 2.2. Embedding\n",
    "\n",
    "Another important type of input layers are embeddings. Embeddings convert integers into vectors. They are typically used to convert characters or words into numerical vectors. The characters or words are first converted into tokens separately as a pre-processing step and then the input to the embedding layer is the indices of the token. The indices are integer values that index into a dictionary of all possible tokens. It sounds more complex than it is. For example, we might tokenize characters in the alphabet. There are 26 tokens (letters) in the alphabet (dictionary of tokens) and we could convert the word “hello” into the indices [7,4,11,11,14], where 7 means the 7th letter of the alphabet.\n",
    "\n",
    "After converting into indices, an embedding layer converts these indices into dense vectors of a chosen dimension. The rationale behind embeddings is to go from a large discrete space (e.g., all words in the English language) into a much smaller space of real numbers (e.g., vectors of size 5)."
   ]
  },
  {
   "cell_type": "markdown",
   "metadata": {},
   "source": [
    "## 3. Example\n",
    "\n",
    "At this point, we have enough common layers to try to build a neural network. We will combine these three layers to predict if a protein is soluble. Our [dataset](https://pubmed.ncbi.nlm.nih.gov/23926206/) consists of proteins known to be soluble or insoluble. As usual, the code below sets-up our imports."
   ]
  },
  {
   "cell_type": "code",
   "execution_count": 1,
   "metadata": {},
   "outputs": [
    {
     "name": "stderr",
     "output_type": "stream",
     "text": [
      "2022-07-06 12:42:34.143824: W tensorflow/stream_executor/platform/default/dso_loader.cc:64] Could not load dynamic library 'libcudart.so.11.0'; dlerror: libcudart.so.11.0: cannot open shared object file: No such file or directory\n",
      "2022-07-06 12:42:34.143841: I tensorflow/stream_executor/cuda/cudart_stub.cc:29] Ignore above cudart dlerror if you do not have a GPU set up on your machine.\n"
     ]
    }
   ],
   "source": [
    "import tensorflow as tf\n",
    "import numpy as np\n",
    "import matplotlib.pyplot as plt\n",
    "import urllib\n",
    "# import dmol"
   ]
  },
  {
   "cell_type": "markdown",
   "metadata": {},
   "source": [
    "Our task is binary classification. The data is split into two: positive and negative examples. We’ll need to rearrange a little into a normal dataset with labels and training/testing split. We also really really need to shuffle our data, so it doesn’t see all positives and then all negatives."
   ]
  },
  {
   "cell_type": "code",
   "execution_count": 4,
   "metadata": {},
   "outputs": [
    {
     "name": "stdout",
     "output_type": "stream",
     "text": [
      "18453 examples\n"
     ]
    },
    {
     "name": "stderr",
     "output_type": "stream",
     "text": [
      "2022-07-06 12:49:17.554485: I tensorflow/stream_executor/cuda/cuda_gpu_executor.cc:975] successful NUMA node read from SysFS had negative value (-1), but there must be at least one NUMA node, so returning NUMA node zero\n",
      "2022-07-06 12:49:17.554895: W tensorflow/stream_executor/platform/default/dso_loader.cc:64] Could not load dynamic library 'libcudart.so.11.0'; dlerror: libcudart.so.11.0: cannot open shared object file: No such file or directory\n",
      "2022-07-06 12:49:17.554938: W tensorflow/stream_executor/platform/default/dso_loader.cc:64] Could not load dynamic library 'libcublas.so.11'; dlerror: libcublas.so.11: cannot open shared object file: No such file or directory\n",
      "2022-07-06 12:49:17.554976: W tensorflow/stream_executor/platform/default/dso_loader.cc:64] Could not load dynamic library 'libcublasLt.so.11'; dlerror: libcublasLt.so.11: cannot open shared object file: No such file or directory\n",
      "2022-07-06 12:49:17.555014: W tensorflow/stream_executor/platform/default/dso_loader.cc:64] Could not load dynamic library 'libcufft.so.10'; dlerror: libcufft.so.10: cannot open shared object file: No such file or directory\n",
      "2022-07-06 12:49:17.555055: W tensorflow/stream_executor/platform/default/dso_loader.cc:64] Could not load dynamic library 'libcurand.so.10'; dlerror: libcurand.so.10: cannot open shared object file: No such file or directory\n",
      "2022-07-06 12:49:17.555092: W tensorflow/stream_executor/platform/default/dso_loader.cc:64] Could not load dynamic library 'libcusolver.so.11'; dlerror: libcusolver.so.11: cannot open shared object file: No such file or directory\n",
      "2022-07-06 12:49:17.555130: W tensorflow/stream_executor/platform/default/dso_loader.cc:64] Could not load dynamic library 'libcusparse.so.11'; dlerror: libcusparse.so.11: cannot open shared object file: No such file or directory\n",
      "2022-07-06 12:49:17.555167: W tensorflow/stream_executor/platform/default/dso_loader.cc:64] Could not load dynamic library 'libcudnn.so.8'; dlerror: libcudnn.so.8: cannot open shared object file: No such file or directory\n",
      "2022-07-06 12:49:17.555173: W tensorflow/core/common_runtime/gpu/gpu_device.cc:1850] Cannot dlopen some GPU libraries. Please make sure the missing libraries mentioned above are installed properly if you would like to use GPU. Follow the guide at https://www.tensorflow.org/install/gpu for how to download and setup the required libraries for your platform.\n",
      "Skipping registering GPU devices...\n",
      "2022-07-06 12:49:17.555430: I tensorflow/core/platform/cpu_feature_guard.cc:193] This TensorFlow binary is optimized with oneAPI Deep Neural Network Library (oneDNN) to use the following CPU instructions in performance-critical operations:  AVX2 FMA\n",
      "To enable them in other operations, rebuild TensorFlow with the appropriate compiler flags.\n",
      "2022-07-06 12:49:17.556706: W tensorflow/core/framework/cpu_allocator_impl.cc:82] Allocation of 29524800 exceeds 10% of free system memory.\n"
     ]
    }
   ],
   "source": [
    "urllib.request.urlretrieve(\n",
    "    \"https://github.com/whitead/dmol-book/raw/master/data/solubility.npz\",\n",
    "    \"solubility.npz\",\n",
    ")\n",
    "with np.load(\"solubility.npz\") as r:\n",
    "    pos_data, neg_data = r[\"positives\"], r[\"negatives\"]\n",
    "\n",
    "\n",
    "# create labels and stich it all into one\n",
    "# tensor\n",
    "labels = np.concatenate(\n",
    "    (\n",
    "        np.ones((pos_data.shape[0], 1), dtype=pos_data.dtype),\n",
    "        np.zeros((neg_data.shape[0], 1), dtype=pos_data.dtype),\n",
    "    ),\n",
    "    axis=0,\n",
    ")\n",
    "features = np.concatenate((pos_data, neg_data), axis=0)\n",
    "# we now need to shuffle before creating TF dataset\n",
    "# so that our train/test/val splits are random\n",
    "i = np.arange(len(labels))\n",
    "np.random.shuffle(i)\n",
    "labels = labels[i]\n",
    "features = features[i]\n",
    "full_data = tf.data.Dataset.from_tensor_slices((features, labels))\n",
    "\n",
    "# now split into val, test, train\n",
    "N = pos_data.shape[0] + neg_data.shape[0]\n",
    "print(N, \"examples\")\n",
    "split = int(0.1 * N)\n",
    "test_data = full_data.take(split).batch(16)\n",
    "nontest = full_data.skip(split)\n",
    "val_data, train_data = nontest.take(split).batch(16), nontest.skip(split).shuffle(\n",
    "    1000\n",
    ").batch(16)"
   ]
  },
  {
   "cell_type": "markdown",
   "metadata": {},
   "source": [
    "Before getting to modeling, let’s examine our data. The protein sequences have already been tokenized. There are 20 possible values at each position because there are 20 amino acids possible in proteins. Let’s see a soluble protein"
   ]
  },
  {
   "cell_type": "code",
   "execution_count": 12,
   "metadata": {},
   "outputs": [
    {
     "data": {
      "text/plain": [
       "(8785, 200)"
      ]
     },
     "execution_count": 12,
     "metadata": {},
     "output_type": "execute_result"
    }
   ],
   "source": [
    "pos_data.shape"
   ]
  },
  {
   "cell_type": "markdown",
   "metadata": {},
   "source": [
    "Notice that integers/indices are used because our data is tokenized already. To make our data all be the same input shape, a special token (0) is inserted at the end indicating no amino acid is present. This needs to be treated carefully, because it should be zeroed throughout the network. Luckily this is built into Keras, so we do not need to worry about it.\n",
    "\n",
    "This data is perfect for an embedding because we need to convert token indices to real vectors. Then we will use 1D convolutions to look for sequence patterns with pooling. We need to then make sure our final layer is a sigmoid, just like in Classification.\n",
    "\n",
    "We begin with an embedding. We’ll use a 2-dimensional embedding, which gives us two channels for our sequence. We’ll just choose our kernel filter size for the 1D convolution to be 5 and we’ll use 16 filters. Beyond that, the rest of the network is about distilling gradually into a final class."
   ]
  },
  {
   "cell_type": "code",
   "execution_count": 13,
   "metadata": {},
   "outputs": [
    {
     "name": "stdout",
     "output_type": "stream",
     "text": [
      "Model: \"sequential\"\n",
      "_________________________________________________________________\n",
      " Layer (type)                Output Shape              Param #   \n",
      "=================================================================\n",
      " embedding (Embedding)       (None, 200, 16)           336       \n",
      "                                                                 \n",
      " conv1d (Conv1D)             (None, 196, 16)           1296      \n",
      "                                                                 \n",
      " max_pooling1d (MaxPooling1D  (None, 49, 16)           0         \n",
      " )                                                               \n",
      "                                                                 \n",
      " conv1d_1 (Conv1D)           (None, 47, 16)            784       \n",
      "                                                                 \n",
      " max_pooling1d_1 (MaxPooling  (None, 23, 16)           0         \n",
      " 1D)                                                             \n",
      "                                                                 \n",
      " conv1d_2 (Conv1D)           (None, 21, 16)            784       \n",
      "                                                                 \n",
      " max_pooling1d_2 (MaxPooling  (None, 10, 16)           0         \n",
      " 1D)                                                             \n",
      "                                                                 \n",
      " flatten (Flatten)           (None, 160)               0         \n",
      "                                                                 \n",
      " dense (Dense)               (None, 256)               41216     \n",
      "                                                                 \n",
      " dense_1 (Dense)             (None, 64)                16448     \n",
      "                                                                 \n",
      " dense_2 (Dense)             (None, 1)                 65        \n",
      "                                                                 \n",
      "=================================================================\n",
      "Total params: 60,929\n",
      "Trainable params: 60,929\n",
      "Non-trainable params: 0\n",
      "_________________________________________________________________\n"
     ]
    }
   ],
   "source": [
    "model = tf.keras.Sequential()\n",
    "\n",
    "# make embedding and indicate that 0 should be treated specially\n",
    "model.add(\n",
    "    tf.keras.layers.Embedding(\n",
    "        input_dim=21, output_dim=16, mask_zero=True, input_length=pos_data.shape[-1]\n",
    "    )\n",
    ")\n",
    "\n",
    "# INFO FOR EMBEDDING\n",
    "\n",
    "# input_dim: The size of the tokens on the input + 1. Since aminoacids\n",
    "# are encoded from 1 to 20 we use input_dim = 21\n",
    "\n",
    "# output_dim: The dimension that outputs of this layer.\n",
    "\n",
    "# mask_zero: Indicates that 0 should be ignored because it has no meaning.\n",
    "\n",
    "# input_length: The size of the vectors (tensors) that we are inputting to the layer\n",
    "\n",
    "\n",
    "# now we move to convolutions and pooling\n",
    "model.add(tf.keras.layers.Conv1D(filters=16, kernel_size=5, activation=\"relu\"))\n",
    "model.add(tf.keras.layers.MaxPooling1D(pool_size=4))\n",
    "\n",
    "model.add(tf.keras.layers.Conv1D(filters=16, kernel_size=3, activation=\"relu\"))\n",
    "model.add(tf.keras.layers.MaxPooling1D(pool_size=2))\n",
    "\n",
    "model.add(tf.keras.layers.Conv1D(filters=16, kernel_size=3, activation=\"relu\"))\n",
    "model.add(tf.keras.layers.MaxPooling1D(pool_size=2))\n",
    "\n",
    "# now we flatten to move to hidden dense layers.\n",
    "# Flattening just removes all axes except 1 (and implicit batch is still in there as always!)\n",
    "\n",
    "model.add(tf.keras.layers.Flatten())\n",
    "\n",
    "model.add(tf.keras.layers.Dense(256, activation=\"relu\"))\n",
    "model.add(tf.keras.layers.Dense(64, activation=\"relu\"))\n",
    "model.add(tf.keras.layers.Dense(1, activation=\"sigmoid\"))\n",
    "\n",
    "model.summary()"
   ]
  },
  {
   "cell_type": "code",
   "execution_count": 15,
   "metadata": {},
   "outputs": [
    {
     "name": "stdout",
     "output_type": "stream",
     "text": [
      "Epoch 1/10\n",
      "922/923 [============================>.] - ETA: 0s - loss: 0.6909 - accuracy: 0.5296 - binary_accuracy: 0.5296"
     ]
    },
    {
     "name": "stderr",
     "output_type": "stream",
     "text": [
      "2022-07-06 13:27:52.333302: W tensorflow/core/framework/cpu_allocator_impl.cc:82] Allocation of 29524800 exceeds 10% of free system memory.\n"
     ]
    },
    {
     "name": "stdout",
     "output_type": "stream",
     "text": [
      "923/923 [==============================] - 5s 4ms/step - loss: 0.6910 - accuracy: 0.5294 - binary_accuracy: 0.5294 - val_loss: 0.6901 - val_accuracy: 0.5393 - val_binary_accuracy: 0.5393\n",
      "Epoch 2/10\n",
      "923/923 [==============================] - 4s 4ms/step - loss: 0.6772 - accuracy: 0.5675 - binary_accuracy: 0.5675 - val_loss: 0.6690 - val_accuracy: 0.5778 - val_binary_accuracy: 0.5778\n",
      "Epoch 3/10\n",
      "923/923 [==============================] - 4s 5ms/step - loss: 0.6641 - accuracy: 0.5894 - binary_accuracy: 0.5894 - val_loss: 0.6706 - val_accuracy: 0.5664 - val_binary_accuracy: 0.5664\n",
      "Epoch 4/10\n",
      "923/923 [==============================] - 4s 4ms/step - loss: 0.6538 - accuracy: 0.6027 - binary_accuracy: 0.6027 - val_loss: 0.6621 - val_accuracy: 0.5919 - val_binary_accuracy: 0.5919\n",
      "Epoch 5/10\n",
      "923/923 [==============================] - 4s 4ms/step - loss: 0.6454 - accuracy: 0.6169 - binary_accuracy: 0.6169 - val_loss: 0.6602 - val_accuracy: 0.6011 - val_binary_accuracy: 0.6011\n",
      "Epoch 6/10\n",
      "923/923 [==============================] - 4s 4ms/step - loss: 0.6351 - accuracy: 0.6324 - binary_accuracy: 0.6324 - val_loss: 0.6683 - val_accuracy: 0.5827 - val_binary_accuracy: 0.5827\n",
      "Epoch 7/10\n",
      "923/923 [==============================] - 4s 4ms/step - loss: 0.6262 - accuracy: 0.6388 - binary_accuracy: 0.6388 - val_loss: 0.6628 - val_accuracy: 0.6081 - val_binary_accuracy: 0.6081\n",
      "Epoch 8/10\n",
      "923/923 [==============================] - 4s 4ms/step - loss: 0.6164 - accuracy: 0.6491 - binary_accuracy: 0.6491 - val_loss: 0.6734 - val_accuracy: 0.6033 - val_binary_accuracy: 0.6033\n",
      "Epoch 9/10\n",
      "923/923 [==============================] - 4s 4ms/step - loss: 0.6045 - accuracy: 0.6602 - binary_accuracy: 0.6602 - val_loss: 0.6796 - val_accuracy: 0.5881 - val_binary_accuracy: 0.5881\n",
      "Epoch 10/10\n",
      "923/923 [==============================] - 4s 5ms/step - loss: 0.5930 - accuracy: 0.6724 - binary_accuracy: 0.6724 - val_loss: 0.6850 - val_accuracy: 0.5870 - val_binary_accuracy: 0.5870\n"
     ]
    }
   ],
   "source": [
    "model.compile(\"adam\", loss=\"binary_crossentropy\", metrics=[\"accuracy\", \"binary_accuracy\"])\n",
    "# Adam is an optimizer, alternative to SGD\n",
    "\n",
    "result = model.fit(train_data, validation_data=val_data, epochs=10, verbose=1)"
   ]
  },
  {
   "cell_type": "code",
   "execution_count": 18,
   "metadata": {},
   "outputs": [
    {
     "data": {
      "image/png": "[encoded data removed]",
      "text/plain": [
       "<Figure size 432x288 with 1 Axes>"
      ]
     },
     "metadata": {
      "needs_background": "light"
     },
     "output_type": "display_data"
    }
   ],
   "source": [
    "plt.plot(result.history[\"loss\"], label=\"training\")\n",
    "plt.plot(result.history[\"val_loss\"], label=\"validation\")\n",
    "plt.legend()\n",
    "plt.xlabel(\"Epoch\")\n",
    "plt.ylabel(\"Loss\")\n",
    "plt.show()"
   ]
  },
  {
   "cell_type": "markdown",
   "metadata": {},
   "source": [
    "You can see this is a classic case of overfitting, with the validation data rising quickly as we improve our loss on the training data. Indeed, our model is quite expressive in its capability to fit the training data but it is incidentally fititng the noise. We have 61,000 trainable parameters and about 15,000 training examples, so this is not a surprise. However, we still able to learn a little bit – our accuracy is above 50%. This is actually a challenging dataset and the state-of-the art result is [77% accuracy](https://academic.oup.com/bioinformatics/article/34/15/2605/4938490?login=false). We need to expand our tools to include layers that can address overfitting."
   ]
  },
  {
   "cell_type": "markdown",
   "metadata": {},
   "source": [
    "## 4. Back propagation\n",
    "\n",
    "At this stage, we should probably talk about back propagation and its connection to automatic gradient computation (autograds). This is how training “just works” when we take a gradient. This is actually a bit of a complicated topic, but it also nearly invisible to users of modern deep learning packages. Thus, I have chosen to not cover it in this book."
   ]
  },
  {
   "cell_type": "markdown",
   "metadata": {},
   "source": [
    "## 5. Regularization\n",
    "\n",
    "As we saw in the ML chapters, regularization is a strategy that changes your training procedure (often by adding loss terms) to prevent overfitting. There is a nice argument for it in the bias-variance trade-off regarding model complexity, however this doesn’t seem to hold in practice. It is an empirical process that depends on many variables. Adding regularization if your model is underfit will usually reduce performance"
   ]
  },
  {
   "cell_type": "markdown",
   "metadata": {},
   "source": [
    "### 5.1. Early Stopping\n",
    "\n",
    "The most commonly used and simplest form of regularization is early stopping. Early stopping means monitoring the loss on your validation data and stopping training once it begins to rise. Normally, training is done until converged – meaning the loss stops decreasing. Early stopping tries to prevent overfitting by looking at the loss on unseen data (validation data) and stopping once that begins to rise. This is an example of regularization because the weights are limited to move a fixed distance from their initial value. Just like in L2 regularization, we’re squeezing our trainable weights. Early stopping can be a bit more complicated to implement in practice than it sounds, so check out how frameworks do it before trying to implement yourself (e.g., [`tf.keras.callbacks.EarlyStopping`](https://www.tensorflow.org/api_docs/python/tf/keras/callbacks/EarlyStopping))."
   ]
  },
  {
   "cell_type": "markdown",
   "metadata": {},
   "source": [
    "### 5.2. Weight\n",
    "\n",
    "Weight regularization is the addition of terms to the loss that depend on the trainable weights in the solubility model example. These can be L2 or L1. You must choose the strength, which is expressed as a parameter (often denoted $\\lambda$) that should be much less than 1. Typically values of 0.1 to 0.0001 are chosen. This may be broken into **kernel regularization**, which affects the multiplicative weights in a dense or convolution neural network, and **bias regularization**. Bias regularization is rarely seen in practice."
   ]
  }
 ],
 "metadata": {
  "interpreter": {
   "hash": "916dbcbb3f70747c44a77c7bcd40155683ae19c65e1c03b4aa3499c5328201f1"
  },
  "kernelspec": {
   "display_name": "Python 3.10.4 64-bit",
   "language": "python",
   "name": "python3"
  },
  "language_info": {
   "codemirror_mode": {
    "name": "ipython",
    "version": 3
   },
   "file_extension": ".py",
   "mimetype": "text/x-python",
   "name": "python",
   "nbconvert_exporter": "python",
   "pygments_lexer": "ipython3",
   "version": "3.10.4"
  },
  "orig_nbformat": 4
 },
 "nbformat": 4,
 "nbformat_minor": 2
}
